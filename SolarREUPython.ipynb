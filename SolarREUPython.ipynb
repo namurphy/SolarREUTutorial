{
 "cells": [
  {
   "cell_type": "markdown",
   "id": "680eee79",
   "metadata": {},
   "source": [
    "# Solar REU Introduction to Python"
   ]
  },
  {
   "cell_type": "markdown",
   "id": "4f6fcfa7",
   "metadata": {},
   "source": [
    "Thank you for coming to the Solar REU Python tutorial!  \n",
    "\n",
    "If you are using Google Colab, please use `Shift + Enter` to execute the following cell. These commands will download directories and files that we'll need for today and tomorrow, and then list the contents."
   ]
  },
  {
   "cell_type": "code",
   "execution_count": null,
   "id": "091ece1f",
   "metadata": {},
   "outputs": [],
   "source": [
    "!svn export https://github.com/namurphy/SolarREUTutorial/trunk/code -q --force\n",
    "!svn export https://github.com/namurphy/SolarREUTutorial/trunk/data -q --force\n",
    "!ls --color -R -p"
   ]
  },
  {
   "cell_type": "code",
   "execution_count": null,
   "id": "01fd6571",
   "metadata": {},
   "outputs": [],
   "source": []
  }
 ],
 "metadata": {
  "kernelspec": {
   "display_name": "Python 3 (ipykernel)",
   "language": "python",
   "name": "python3"
  },
  "language_info": {
   "codemirror_mode": {
    "name": "ipython",
    "version": 3
   },
   "file_extension": ".py",
   "mimetype": "text/x-python",
   "name": "python",
   "nbconvert_exporter": "python",
   "pygments_lexer": "ipython3",
   "version": "3.11.3"
  }
 },
 "nbformat": 4,
 "nbformat_minor": 5
}
