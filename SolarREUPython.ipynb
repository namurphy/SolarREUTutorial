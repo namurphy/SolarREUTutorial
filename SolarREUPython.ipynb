{
 "cells": [
  {
   "cell_type": "markdown",
   "id": "340a957a",
   "metadata": {},
   "source": [
    "# Solar REU Introduction to Python"
   ]
  },
  {
   "cell_type": "markdown",
   "id": "8ec101c3",
   "metadata": {},
   "source": [
    "Thank you for coming to the Solar REU Python tutorial!  \n",
    "\n",
    "If you are using Google Colab, please use `Shift + Enter` to execute the following cell and download the files we will need. It will clone/download the data files that we will need for today and tomorrow."
   ]
  },
  {
   "cell_type": "code",
   "execution_count": null,
   "id": "68d24e34",
   "metadata": {},
   "outputs": [],
   "source": [
    "!git clone --depth 1 https://github.com/namurphy/SolarREUTutorial.git"
   ]
  },
  {
   "cell_type": "markdown",
   "id": "1be4310b",
   "metadata": {},
   "source": []
  }
 ],
 "metadata": {
  "kernelspec": {
   "display_name": "Python 3 (ipykernel)",
   "language": "python",
   "name": "python3"
  },
  "language_info": {
   "codemirror_mode": {
    "name": "ipython",
    "version": 3
   },
   "file_extension": ".py",
   "mimetype": "text/x-python",
   "name": "python",
   "nbconvert_exporter": "python",
   "pygments_lexer": "ipython3",
   "version": "3.11.3"
  }
 },
 "nbformat": 4,
 "nbformat_minor": 5
}
