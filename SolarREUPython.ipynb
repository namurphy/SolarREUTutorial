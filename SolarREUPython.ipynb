{
 "cells": [
  {
   "cell_type": "markdown",
   "id": "864f1fd0",
   "metadata": {},
   "source": [
    "# Introduction to Python"
   ]
  },
  {
   "cell_type": "markdown",
   "id": "a84485f4",
   "metadata": {},
   "source": [
    "If you are using Google Colab, please use `Shift + Enter` to execute the following cell and download the files we will need."
   ]
  },
  {
   "cell_type": "code",
   "execution_count": null,
   "id": "08282e1c",
   "metadata": {},
   "outputs": [],
   "source": [
    "!git clone https://github.com/namurphy/SolarREUTutorial.git"
   ]
  },
  {
   "cell_type": "markdown",
   "id": "75947cdb",
   "metadata": {},
   "source": []
  }
 ],
 "metadata": {
  "kernelspec": {
   "display_name": "Python 3 (ipykernel)",
   "language": "python",
   "name": "python3"
  },
  "language_info": {
   "codemirror_mode": {
    "name": "ipython",
    "version": 3
   },
   "file_extension": ".py",
   "mimetype": "text/x-python",
   "name": "python",
   "nbconvert_exporter": "python",
   "pygments_lexer": "ipython3",
   "version": "3.11.3"
  }
 },
 "nbformat": 4,
 "nbformat_minor": 5
}
