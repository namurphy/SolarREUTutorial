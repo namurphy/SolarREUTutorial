{
 "cells": [
  {
   "cell_type": "markdown",
   "id": "b20a613c",
   "metadata": {},
   "source": [
    "# Solar REU Introduction to Python"
   ]
  },
  {
   "cell_type": "markdown",
   "id": "b42672fc",
   "metadata": {},
   "source": [
    "Thank you for coming to the Solar REU Python tutorial!  \n",
    "\n",
    "If you are using Google Colab, please use `Shift + Enter` to execute the following cell. These commands will download files that we'll need today and tomorrow, and then list the contents."
   ]
  },
  {
   "cell_type": "code",
   "execution_count": null,
   "id": "6dc76992",
   "metadata": {},
   "outputs": [],
   "source": [
    "!apt-get install subversion  # install software\n",
    "!svn export https://github.com/namurphy/SolarREUTutorial/trunk/data -q --force  # download data folder from GitHub\n",
    "!mv -f data/* .  # move data files to current directory\n",
    "!rmdir data  # remove data folder\n",
    "!ls  # list contents of directory"
   ]
  },
  {
   "cell_type": "code",
   "execution_count": null,
   "id": "df3a7ce1",
   "metadata": {},
   "outputs": [],
   "source": []
  }
 ],
 "metadata": {
  "kernelspec": {
   "display_name": "Python 3 (ipykernel)",
   "language": "python",
   "name": "python3"
  },
  "language_info": {
   "codemirror_mode": {
    "name": "ipython",
    "version": 3
   },
   "file_extension": ".py",
   "mimetype": "text/x-python",
   "name": "python",
   "nbconvert_exporter": "python",
   "pygments_lexer": "ipython3",
   "version": "3.11.3"
  }
 },
 "nbformat": 4,
 "nbformat_minor": 5
}
