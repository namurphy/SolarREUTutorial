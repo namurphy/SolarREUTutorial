{
  "cells": [
    {
      "cell_type": "markdown",
      "id": "d0022edb",
      "metadata": {
        "id": "d0022edb"
      },
      "source": [
        "# Solar REU Introduction to Python"
      ]
    },
    {
      "cell_type": "markdown",
      "id": "7860e165",
      "metadata": {
        "id": "7860e165"
      },
      "source": [
        "Thank you for coming to the Solar REU Python tutorial!  \n",
        "\n",
        "If you are using Google Colab, please use `Shift + Enter` to execute the following cell. These commands will download files that we'll need today and tomorrow from this [repository](https://github.com/namurphy/SolarREUTutorial), and then list the contents."
      ]
    },
    {
      "cell_type": "code",
      "execution_count": null,
      "id": "69157ebb",
      "metadata": {
        "id": "69157ebb",
        "outputId": "c6941d9e-ed8b-4c12-c79b-2ced4eb5f136",
        "colab": {
          "base_uri": "https://localhost:8080/"
        }
      },
      "outputs": [
        {
          "output_type": "stream",
          "name": "stdout",
          "text": [
            "Reading package lists... Done\n",
            "Building dependency tree       \n",
            "Reading state information... Done\n",
            "The following additional packages will be installed:\n",
            "  libapr1 libaprutil1 libserf-1-1 libsvn1 libutf8proc2\n",
            "Suggested packages:\n",
            "  db5.3-util libapache2-mod-svn subversion-tools\n",
            "The following NEW packages will be installed:\n",
            "  libapr1 libaprutil1 libserf-1-1 libsvn1 libutf8proc2 subversion\n",
            "0 upgraded, 6 newly installed, 0 to remove and 38 not upgraded.\n",
            "Need to get 2,355 kB of archives.\n",
            "After this operation, 10.3 MB of additional disk space will be used.\n",
            "Get:1 http://archive.ubuntu.com/ubuntu focal/main amd64 libapr1 amd64 1.6.5-1ubuntu1 [91.4 kB]\n",
            "Get:2 http://archive.ubuntu.com/ubuntu focal-updates/main amd64 libaprutil1 amd64 1.6.1-4ubuntu2.1 [84.9 kB]\n",
            "Get:3 http://archive.ubuntu.com/ubuntu focal/universe amd64 libserf-1-1 amd64 1.3.9-8build1 [45.2 kB]\n",
            "Get:4 http://archive.ubuntu.com/ubuntu focal/universe amd64 libutf8proc2 amd64 2.5.0-1 [50.0 kB]\n",
            "Get:5 http://archive.ubuntu.com/ubuntu focal-updates/universe amd64 libsvn1 amd64 1.13.0-3ubuntu0.2 [1,260 kB]\n",
            "Get:6 http://archive.ubuntu.com/ubuntu focal-updates/universe amd64 subversion amd64 1.13.0-3ubuntu0.2 [824 kB]\n",
            "Fetched 2,355 kB in 1s (1,817 kB/s)\n",
            "Selecting previously unselected package libapr1:amd64.\n",
            "(Reading database ... 122541 files and directories currently installed.)\n",
            "Preparing to unpack .../0-libapr1_1.6.5-1ubuntu1_amd64.deb ...\n",
            "Unpacking libapr1:amd64 (1.6.5-1ubuntu1) ...\n",
            "Selecting previously unselected package libaprutil1:amd64.\n",
            "Preparing to unpack .../1-libaprutil1_1.6.1-4ubuntu2.1_amd64.deb ...\n",
            "Unpacking libaprutil1:amd64 (1.6.1-4ubuntu2.1) ...\n",
            "Selecting previously unselected package libserf-1-1:amd64.\n",
            "Preparing to unpack .../2-libserf-1-1_1.3.9-8build1_amd64.deb ...\n",
            "Unpacking libserf-1-1:amd64 (1.3.9-8build1) ...\n",
            "Selecting previously unselected package libutf8proc2:amd64.\n",
            "Preparing to unpack .../3-libutf8proc2_2.5.0-1_amd64.deb ...\n",
            "Unpacking libutf8proc2:amd64 (2.5.0-1) ...\n",
            "Selecting previously unselected package libsvn1:amd64.\n",
            "Preparing to unpack .../4-libsvn1_1.13.0-3ubuntu0.2_amd64.deb ...\n",
            "Unpacking libsvn1:amd64 (1.13.0-3ubuntu0.2) ...\n",
            "Selecting previously unselected package subversion.\n",
            "Preparing to unpack .../5-subversion_1.13.0-3ubuntu0.2_amd64.deb ...\n",
            "Unpacking subversion (1.13.0-3ubuntu0.2) ...\n",
            "Setting up libutf8proc2:amd64 (2.5.0-1) ...\n",
            "Setting up libapr1:amd64 (1.6.5-1ubuntu1) ...\n",
            "Setting up libaprutil1:amd64 (1.6.1-4ubuntu2.1) ...\n",
            "Setting up libserf-1-1:amd64 (1.3.9-8build1) ...\n",
            "Setting up libsvn1:amd64 (1.13.0-3ubuntu0.2) ...\n",
            "Setting up subversion (1.13.0-3ubuntu0.2) ...\n",
            "Processing triggers for libc-bin (2.31-0ubuntu9.9) ...\n",
            "Processing triggers for man-db (2.9.1-1) ...\n",
            "inflammation-01.csv  inflammation-05.csv  inflammation-09.csv  sample_data\n",
            "inflammation-02.csv  inflammation-06.csv  inflammation-10.csv  small-01.csv\n",
            "inflammation-03.csv  inflammation-07.csv  inflammation-11.csv  small-02.csv\n",
            "inflammation-04.csv  inflammation-08.csv  inflammation-12.csv  small-03.csv\n"
          ]
        }
      ],
      "source": [
        "!apt-get install subversion  # install software\n",
        "!svn export https://github.com/namurphy/SolarREUTutorial/trunk/data -q --force  # download data folder from GitHub\n",
        "!mv -f data/* .  # move data files to current directory\n",
        "!rmdir data  # remove data folder\n",
        "!ls  # list contents of directory"
      ]
    },
    {
      "cell_type": "code",
      "execution_count": null,
      "id": "ddd4784f",
      "metadata": {
        "id": "ddd4784f",
        "outputId": "706afd8b-ff17-4f89-d1e5-484858879de7",
        "colab": {
          "base_uri": "https://localhost:8080/"
        }
      },
      "outputs": [
        {
          "output_type": "execute_result",
          "data": {
            "text/plain": [
              "23"
            ]
          },
          "metadata": {},
          "execution_count": 2
        }
      ],
      "source": [
        "3 + 5 * 4"
      ]
    },
    {
      "cell_type": "code",
      "source": [
        "weight_kg = 60"
      ],
      "metadata": {
        "id": "ZFMJ9d_J5uWx"
      },
      "id": "ZFMJ9d_J5uWx",
      "execution_count": null,
      "outputs": []
    },
    {
      "cell_type": "code",
      "source": [
        "weight_kg = 60.3"
      ],
      "metadata": {
        "id": "ZoXzc4Y65ybf"
      },
      "id": "ZoXzc4Y65ybf",
      "execution_count": null,
      "outputs": []
    },
    {
      "cell_type": "code",
      "source": [
        "patient_id = '001'"
      ],
      "metadata": {
        "id": "5cNg3JOK5-JG"
      },
      "id": "5cNg3JOK5-JG",
      "execution_count": null,
      "outputs": []
    },
    {
      "cell_type": "code",
      "source": [
        "print(weight_kg)"
      ],
      "metadata": {
        "id": "FjJAxeua6CFI",
        "outputId": "f4a76682-8c2b-424a-9e6d-c71f9ca93e15",
        "colab": {
          "base_uri": "https://localhost:8080/"
        }
      },
      "id": "FjJAxeua6CFI",
      "execution_count": null,
      "outputs": [
        {
          "output_type": "stream",
          "name": "stdout",
          "text": [
            "60.3\n"
          ]
        }
      ]
    },
    {
      "cell_type": "code",
      "source": [
        "print(patient_id)"
      ],
      "metadata": {
        "id": "t4XenGTP6LBz",
        "outputId": "389ac9cc-fd4e-48fa-d04f-f43380c98405",
        "colab": {
          "base_uri": "https://localhost:8080/"
        }
      },
      "id": "t4XenGTP6LBz",
      "execution_count": null,
      "outputs": [
        {
          "output_type": "stream",
          "name": "stdout",
          "text": [
            "001\n"
          ]
        }
      ]
    },
    {
      "cell_type": "code",
      "source": [
        "weight_lb = 2.2 * weight_kg"
      ],
      "metadata": {
        "id": "BpwLuvvq6OAK"
      },
      "id": "BpwLuvvq6OAK",
      "execution_count": null,
      "outputs": []
    },
    {
      "cell_type": "code",
      "source": [
        "print(weight_lb)"
      ],
      "metadata": {
        "id": "NPB9AlOD6UxK",
        "outputId": "70093b3b-3dfb-4cbe-d0e3-103613c6911b",
        "colab": {
          "base_uri": "https://localhost:8080/"
        }
      },
      "id": "NPB9AlOD6UxK",
      "execution_count": null,
      "outputs": [
        {
          "output_type": "stream",
          "name": "stdout",
          "text": [
            "132.66\n"
          ]
        }
      ]
    },
    {
      "cell_type": "code",
      "source": [
        "patient_id = 'inflam_' + patient_id"
      ],
      "metadata": {
        "id": "iN2HActG6Wn5"
      },
      "id": "iN2HActG6Wn5",
      "execution_count": null,
      "outputs": []
    },
    {
      "cell_type": "code",
      "source": [
        "print(\"patient id is\", patient_id)"
      ],
      "metadata": {
        "id": "ec9-aDuz6dEH",
        "outputId": "dd7865d5-458a-4f3e-e845-48d114123139",
        "colab": {
          "base_uri": "https://localhost:8080/"
        }
      },
      "id": "ec9-aDuz6dEH",
      "execution_count": null,
      "outputs": [
        {
          "output_type": "stream",
          "name": "stdout",
          "text": [
            "patient id is inflam_001\n"
          ]
        }
      ]
    },
    {
      "cell_type": "code",
      "source": [
        "print(type(weight_lb))"
      ],
      "metadata": {
        "id": "1dRP4vMU6iiM",
        "outputId": "0f1c3d68-27ae-413b-d283-dea100e0c070",
        "colab": {
          "base_uri": "https://localhost:8080/"
        }
      },
      "id": "1dRP4vMU6iiM",
      "execution_count": null,
      "outputs": [
        {
          "output_type": "stream",
          "name": "stdout",
          "text": [
            "<class 'float'>\n"
          ]
        }
      ]
    },
    {
      "cell_type": "code",
      "source": [
        "print(type(patient_id))"
      ],
      "metadata": {
        "id": "4zib_drq7ETY",
        "outputId": "7896003f-cca7-4280-f6d0-645ba7f78e21",
        "colab": {
          "base_uri": "https://localhost:8080/"
        }
      },
      "id": "4zib_drq7ETY",
      "execution_count": null,
      "outputs": [
        {
          "output_type": "stream",
          "name": "stdout",
          "text": [
            "<class 'str'>\n"
          ]
        }
      ]
    },
    {
      "cell_type": "code",
      "source": [
        "import numpy"
      ],
      "metadata": {
        "id": "FUorw5167Ki5"
      },
      "id": "FUorw5167Ki5",
      "execution_count": null,
      "outputs": []
    },
    {
      "cell_type": "code",
      "source": [
        "numpy.loadtxt(fname='inflammation-01.csv')"
      ],
      "metadata": {
        "id": "w03JgKnc7Vp8",
        "outputId": "f9422758-8643-44e3-d840-f4522b24537a",
        "colab": {
          "base_uri": "https://localhost:8080/",
          "height": 341
        }
      },
      "id": "w03JgKnc7Vp8",
      "execution_count": null,
      "outputs": [
        {
          "output_type": "error",
          "ename": "ValueError",
          "evalue": "ignored",
          "traceback": [
            "\u001b[0;31m---------------------------------------------------------------------------\u001b[0m",
            "\u001b[0;31mValueError\u001b[0m                                Traceback (most recent call last)",
            "\u001b[0;32m<ipython-input-16-49b74949b0c8>\u001b[0m in \u001b[0;36m<cell line: 1>\u001b[0;34m()\u001b[0m\n\u001b[0;32m----> 1\u001b[0;31m \u001b[0mnumpy\u001b[0m\u001b[0;34m.\u001b[0m\u001b[0mloadtxt\u001b[0m\u001b[0;34m(\u001b[0m\u001b[0mfname\u001b[0m\u001b[0;34m=\u001b[0m\u001b[0;34m'inflammation-01.csv'\u001b[0m\u001b[0;34m)\u001b[0m\u001b[0;34m\u001b[0m\u001b[0;34m\u001b[0m\u001b[0m\n\u001b[0m",
            "\u001b[0;32m/usr/local/lib/python3.10/dist-packages/numpy/lib/npyio.py\u001b[0m in \u001b[0;36mloadtxt\u001b[0;34m(fname, dtype, comments, delimiter, converters, skiprows, usecols, unpack, ndmin, encoding, max_rows, like)\u001b[0m\n\u001b[1;32m   1161\u001b[0m                 \u001b[0;31m# Convert each value according to its column, then pack it\u001b[0m\u001b[0;34m\u001b[0m\u001b[0;34m\u001b[0m\u001b[0m\n\u001b[1;32m   1162\u001b[0m                 \u001b[0;31m# according to the dtype's nesting, and store it.\u001b[0m\u001b[0;34m\u001b[0m\u001b[0;34m\u001b[0m\u001b[0m\n\u001b[0;32m-> 1163\u001b[0;31m                 \u001b[0mchunk\u001b[0m\u001b[0;34m.\u001b[0m\u001b[0mappend\u001b[0m\u001b[0;34m(\u001b[0m\u001b[0mpacker\u001b[0m\u001b[0;34m(\u001b[0m\u001b[0mconvert_row\u001b[0m\u001b[0;34m(\u001b[0m\u001b[0mwords\u001b[0m\u001b[0;34m)\u001b[0m\u001b[0;34m)\u001b[0m\u001b[0;34m)\u001b[0m\u001b[0;34m\u001b[0m\u001b[0;34m\u001b[0m\u001b[0m\n\u001b[0m\u001b[1;32m   1164\u001b[0m             \u001b[0;32mif\u001b[0m \u001b[0;32mnot\u001b[0m \u001b[0mchunk\u001b[0m\u001b[0;34m:\u001b[0m  \u001b[0;31m# The islice is empty, i.e. we're done.\u001b[0m\u001b[0;34m\u001b[0m\u001b[0;34m\u001b[0m\u001b[0m\n\u001b[1;32m   1165\u001b[0m                 \u001b[0;32mbreak\u001b[0m\u001b[0;34m\u001b[0m\u001b[0;34m\u001b[0m\u001b[0m\n",
            "\u001b[0;32m/usr/local/lib/python3.10/dist-packages/numpy/lib/npyio.py\u001b[0m in \u001b[0;36mconvert_row\u001b[0;34m(vals, _conv)\u001b[0m\n\u001b[1;32m   1140\u001b[0m             \u001b[0;31m# equal dtypes.\u001b[0m\u001b[0;34m\u001b[0m\u001b[0;34m\u001b[0m\u001b[0m\n\u001b[1;32m   1141\u001b[0m             \u001b[0;32mdef\u001b[0m \u001b[0mconvert_row\u001b[0m\u001b[0;34m(\u001b[0m\u001b[0mvals\u001b[0m\u001b[0;34m,\u001b[0m \u001b[0m_conv\u001b[0m\u001b[0;34m=\u001b[0m\u001b[0mconverters\u001b[0m\u001b[0;34m[\u001b[0m\u001b[0;36m0\u001b[0m\u001b[0;34m]\u001b[0m\u001b[0;34m)\u001b[0m\u001b[0;34m:\u001b[0m\u001b[0;34m\u001b[0m\u001b[0;34m\u001b[0m\u001b[0m\n\u001b[0;32m-> 1142\u001b[0;31m                 \u001b[0;32mreturn\u001b[0m \u001b[0;34m[\u001b[0m\u001b[0;34m*\u001b[0m\u001b[0mmap\u001b[0m\u001b[0;34m(\u001b[0m\u001b[0m_conv\u001b[0m\u001b[0;34m,\u001b[0m \u001b[0mvals\u001b[0m\u001b[0;34m)\u001b[0m\u001b[0;34m]\u001b[0m\u001b[0;34m\u001b[0m\u001b[0;34m\u001b[0m\u001b[0m\n\u001b[0m\u001b[1;32m   1143\u001b[0m         \u001b[0;32melse\u001b[0m\u001b[0;34m:\u001b[0m\u001b[0;34m\u001b[0m\u001b[0;34m\u001b[0m\u001b[0m\n\u001b[1;32m   1144\u001b[0m             \u001b[0;32mdef\u001b[0m \u001b[0mconvert_row\u001b[0m\u001b[0;34m(\u001b[0m\u001b[0mvals\u001b[0m\u001b[0;34m)\u001b[0m\u001b[0;34m:\u001b[0m\u001b[0;34m\u001b[0m\u001b[0;34m\u001b[0m\u001b[0m\n",
            "\u001b[0;32m/usr/local/lib/python3.10/dist-packages/numpy/lib/npyio.py\u001b[0m in \u001b[0;36m_floatconv\u001b[0;34m(x)\u001b[0m\n\u001b[1;32m    723\u001b[0m \u001b[0;32mdef\u001b[0m \u001b[0m_floatconv\u001b[0m\u001b[0;34m(\u001b[0m\u001b[0mx\u001b[0m\u001b[0;34m)\u001b[0m\u001b[0;34m:\u001b[0m\u001b[0;34m\u001b[0m\u001b[0;34m\u001b[0m\u001b[0m\n\u001b[1;32m    724\u001b[0m     \u001b[0;32mtry\u001b[0m\u001b[0;34m:\u001b[0m\u001b[0;34m\u001b[0m\u001b[0;34m\u001b[0m\u001b[0m\n\u001b[0;32m--> 725\u001b[0;31m         \u001b[0;32mreturn\u001b[0m \u001b[0mfloat\u001b[0m\u001b[0;34m(\u001b[0m\u001b[0mx\u001b[0m\u001b[0;34m)\u001b[0m  \u001b[0;31m# The fastest path.\u001b[0m\u001b[0;34m\u001b[0m\u001b[0;34m\u001b[0m\u001b[0m\n\u001b[0m\u001b[1;32m    726\u001b[0m     \u001b[0;32mexcept\u001b[0m \u001b[0mValueError\u001b[0m\u001b[0;34m:\u001b[0m\u001b[0;34m\u001b[0m\u001b[0;34m\u001b[0m\u001b[0m\n\u001b[1;32m    727\u001b[0m         \u001b[0;32mif\u001b[0m \u001b[0;34m'0x'\u001b[0m \u001b[0;32min\u001b[0m \u001b[0mx\u001b[0m\u001b[0;34m:\u001b[0m  \u001b[0;31m# Don't accidentally convert \"a\" (\"0xa\") to 10.\u001b[0m\u001b[0;34m\u001b[0m\u001b[0;34m\u001b[0m\u001b[0m\n",
            "\u001b[0;31mValueError\u001b[0m: could not convert string to float: '0,0,1,3,1,2,4,7,8,3,3,3,10,5,7,4,7,7,12,18,6,13,11,11,7,7,4,6,8,8,4,4,5,7,3,4,2,3,0,0'"
          ]
        }
      ]
    },
    {
      "cell_type": "code",
      "source": [
        "numpy.loadtxt?"
      ],
      "metadata": {
        "id": "9DQ5TH7B7sKT"
      },
      "id": "9DQ5TH7B7sKT",
      "execution_count": null,
      "outputs": []
    },
    {
      "cell_type": "code",
      "source": [
        "help(numpy.loadtxt)"
      ],
      "metadata": {
        "id": "-RPg0JTW8XrF",
        "outputId": "b1436c3b-3ad0-4dc7-f242-b3991bff26fa",
        "colab": {
          "base_uri": "https://localhost:8080/"
        }
      },
      "id": "-RPg0JTW8XrF",
      "execution_count": null,
      "outputs": [
        {
          "output_type": "stream",
          "name": "stdout",
          "text": [
            "Help on function loadtxt in module numpy:\n",
            "\n",
            "loadtxt(fname, dtype=<class 'float'>, comments='#', delimiter=None, converters=None, skiprows=0, usecols=None, unpack=False, ndmin=0, encoding='bytes', max_rows=None, *, like=None)\n",
            "    Load data from a text file.\n",
            "    \n",
            "    Each row in the text file must have the same number of values.\n",
            "    \n",
            "    Parameters\n",
            "    ----------\n",
            "    fname : file, str, pathlib.Path, list of str, generator\n",
            "        File, filename, list, or generator to read.  If the filename\n",
            "        extension is ``.gz`` or ``.bz2``, the file is first decompressed. Note\n",
            "        that generators must return bytes or strings. The strings\n",
            "        in a list or produced by a generator are treated as lines.\n",
            "    dtype : data-type, optional\n",
            "        Data-type of the resulting array; default: float.  If this is a\n",
            "        structured data-type, the resulting array will be 1-dimensional, and\n",
            "        each row will be interpreted as an element of the array.  In this\n",
            "        case, the number of columns used must match the number of fields in\n",
            "        the data-type.\n",
            "    comments : str or sequence of str, optional\n",
            "        The characters or list of characters used to indicate the start of a\n",
            "        comment. None implies no comments. For backwards compatibility, byte\n",
            "        strings will be decoded as 'latin1'. The default is '#'.\n",
            "    delimiter : str, optional\n",
            "        The string used to separate values. For backwards compatibility, byte\n",
            "        strings will be decoded as 'latin1'. The default is whitespace.\n",
            "    converters : dict, optional\n",
            "        A dictionary mapping column number to a function that will parse the\n",
            "        column string into the desired value.  E.g., if column 0 is a date\n",
            "        string: ``converters = {0: datestr2num}``.  Converters can also be\n",
            "        used to provide a default value for missing data (but see also\n",
            "        `genfromtxt`): ``converters = {3: lambda s: float(s.strip() or 0)}``.\n",
            "        Default: None.\n",
            "    skiprows : int, optional\n",
            "        Skip the first `skiprows` lines, including comments; default: 0.\n",
            "    usecols : int or sequence, optional\n",
            "        Which columns to read, with 0 being the first. For example,\n",
            "        ``usecols = (1,4,5)`` will extract the 2nd, 5th and 6th columns.\n",
            "        The default, None, results in all columns being read.\n",
            "    \n",
            "        .. versionchanged:: 1.11.0\n",
            "            When a single column has to be read it is possible to use\n",
            "            an integer instead of a tuple. E.g ``usecols = 3`` reads the\n",
            "            fourth column the same way as ``usecols = (3,)`` would.\n",
            "    unpack : bool, optional\n",
            "        If True, the returned array is transposed, so that arguments may be\n",
            "        unpacked using ``x, y, z = loadtxt(...)``.  When used with a\n",
            "        structured data-type, arrays are returned for each field.\n",
            "        Default is False.\n",
            "    ndmin : int, optional\n",
            "        The returned array will have at least `ndmin` dimensions.\n",
            "        Otherwise mono-dimensional axes will be squeezed.\n",
            "        Legal values: 0 (default), 1 or 2.\n",
            "    \n",
            "        .. versionadded:: 1.6.0\n",
            "    encoding : str, optional\n",
            "        Encoding used to decode the inputfile. Does not apply to input streams.\n",
            "        The special value 'bytes' enables backward compatibility workarounds\n",
            "        that ensures you receive byte arrays as results if possible and passes\n",
            "        'latin1' encoded strings to converters. Override this value to receive\n",
            "        unicode arrays and pass strings as input to converters.  If set to None\n",
            "        the system default is used. The default value is 'bytes'.\n",
            "    \n",
            "        .. versionadded:: 1.14.0\n",
            "    max_rows : int, optional\n",
            "        Read `max_rows` lines of content after `skiprows` lines. The default\n",
            "        is to read all the lines.\n",
            "    \n",
            "        .. versionadded:: 1.16.0\n",
            "    like : array_like\n",
            "        Reference object to allow the creation of arrays which are not\n",
            "        NumPy arrays. If an array-like passed in as ``like`` supports\n",
            "        the ``__array_function__`` protocol, the result will be defined\n",
            "        by it. In this case, it ensures the creation of an array object\n",
            "        compatible with that passed in via this argument.\n",
            "    \n",
            "        .. versionadded:: 1.20.0\n",
            "    \n",
            "    Returns\n",
            "    -------\n",
            "    out : ndarray\n",
            "        Data read from the text file.\n",
            "    \n",
            "    See Also\n",
            "    --------\n",
            "    load, fromstring, fromregex\n",
            "    genfromtxt : Load data with missing values handled as specified.\n",
            "    scipy.io.loadmat : reads MATLAB data files\n",
            "    \n",
            "    Notes\n",
            "    -----\n",
            "    This function aims to be a fast reader for simply formatted files.  The\n",
            "    `genfromtxt` function provides more sophisticated handling of, e.g.,\n",
            "    lines with missing values.\n",
            "    \n",
            "    .. versionadded:: 1.10.0\n",
            "    \n",
            "    The strings produced by the Python float.hex method can be used as\n",
            "    input for floats.\n",
            "    \n",
            "    Examples\n",
            "    --------\n",
            "    >>> from io import StringIO   # StringIO behaves like a file object\n",
            "    >>> c = StringIO(\"0 1\\n2 3\")\n",
            "    >>> np.loadtxt(c)\n",
            "    array([[0., 1.],\n",
            "           [2., 3.]])\n",
            "    \n",
            "    >>> d = StringIO(\"M 21 72\\nF 35 58\")\n",
            "    >>> np.loadtxt(d, dtype={'names': ('gender', 'age', 'weight'),\n",
            "    ...                      'formats': ('S1', 'i4', 'f4')})\n",
            "    array([(b'M', 21, 72.), (b'F', 35, 58.)],\n",
            "          dtype=[('gender', 'S1'), ('age', '<i4'), ('weight', '<f4')])\n",
            "    \n",
            "    >>> c = StringIO(\"1,0,2\\n3,0,4\")\n",
            "    >>> x, y = np.loadtxt(c, delimiter=',', usecols=(0, 2), unpack=True)\n",
            "    >>> x\n",
            "    array([1., 3.])\n",
            "    >>> y\n",
            "    array([2., 4.])\n",
            "    \n",
            "    This example shows how `converters` can be used to convert a field\n",
            "    with a trailing minus sign into a negative number.\n",
            "    \n",
            "    >>> s = StringIO('10.01 31.25-\\n19.22 64.31\\n17.57- 63.94')\n",
            "    >>> def conv(fld):\n",
            "    ...     return -float(fld[:-1]) if fld.endswith(b'-') else float(fld)\n",
            "    ...\n",
            "    >>> np.loadtxt(s, converters={0: conv, 1: conv})\n",
            "    array([[ 10.01, -31.25],\n",
            "           [ 19.22,  64.31],\n",
            "           [-17.57,  63.94]])\n",
            "\n"
          ]
        }
      ]
    },
    {
      "cell_type": "code",
      "source": [
        "data = numpy.loadtxt(fname='inflammation-01.csv', delimiter=',')"
      ],
      "metadata": {
        "id": "VmVpS4SP8rO3"
      },
      "id": "VmVpS4SP8rO3",
      "execution_count": null,
      "outputs": []
    },
    {
      "cell_type": "code",
      "source": [
        "print(data)"
      ],
      "metadata": {
        "id": "OEbP74-28zza",
        "outputId": "d914a098-36e1-43e3-f3d0-9e58804157ce",
        "colab": {
          "base_uri": "https://localhost:8080/"
        }
      },
      "id": "OEbP74-28zza",
      "execution_count": null,
      "outputs": [
        {
          "output_type": "stream",
          "name": "stdout",
          "text": [
            "[[0. 0. 1. ... 3. 0. 0.]\n",
            " [0. 1. 2. ... 1. 0. 1.]\n",
            " [0. 1. 1. ... 2. 1. 1.]\n",
            " ...\n",
            " [0. 1. 1. ... 1. 1. 1.]\n",
            " [0. 0. 0. ... 0. 2. 0.]\n",
            " [0. 0. 1. ... 1. 1. 0.]]\n"
          ]
        }
      ]
    },
    {
      "cell_type": "code",
      "source": [
        "print(type(data))"
      ],
      "metadata": {
        "id": "SKoZzJ3K8_qU",
        "outputId": "2a7377d7-dc9c-49c8-b171-db89ccc69e98",
        "colab": {
          "base_uri": "https://localhost:8080/"
        }
      },
      "id": "SKoZzJ3K8_qU",
      "execution_count": null,
      "outputs": [
        {
          "output_type": "stream",
          "name": "stdout",
          "text": [
            "<class 'numpy.ndarray'>\n"
          ]
        }
      ]
    },
    {
      "cell_type": "code",
      "source": [
        "print(data.dtype)"
      ],
      "metadata": {
        "id": "VbHa4Bzx9Mq0",
        "outputId": "80dfc60a-576f-4d36-f3a7-d3b19fe6cb5c",
        "colab": {
          "base_uri": "https://localhost:8080/"
        }
      },
      "id": "VbHa4Bzx9Mq0",
      "execution_count": null,
      "outputs": [
        {
          "output_type": "stream",
          "name": "stdout",
          "text": [
            "float64\n"
          ]
        }
      ]
    },
    {
      "cell_type": "code",
      "source": [
        "print(data.shape)"
      ],
      "metadata": {
        "id": "TeRxi3sh9XLi",
        "outputId": "72473630-6de5-4cda-f8a6-21fa62d6edfa",
        "colab": {
          "base_uri": "https://localhost:8080/"
        }
      },
      "id": "TeRxi3sh9XLi",
      "execution_count": null,
      "outputs": [
        {
          "output_type": "stream",
          "name": "stdout",
          "text": [
            "(60, 40)\n"
          ]
        }
      ]
    },
    {
      "cell_type": "code",
      "source": [
        "print(data[0,0])"
      ],
      "metadata": {
        "id": "U5Q2MQe99fbx",
        "outputId": "9a2a8d86-7e53-4243-d35c-04c1c69959b6",
        "colab": {
          "base_uri": "https://localhost:8080/"
        }
      },
      "id": "U5Q2MQe99fbx",
      "execution_count": null,
      "outputs": [
        {
          "output_type": "stream",
          "name": "stdout",
          "text": [
            "0.0\n"
          ]
        }
      ]
    },
    {
      "cell_type": "code",
      "source": [
        "print('middle value in data:', data[30,20])"
      ],
      "metadata": {
        "id": "3hQu0bk89wLE",
        "outputId": "969ace49-9ff5-4e64-eb03-ebee93f9565f",
        "colab": {
          "base_uri": "https://localhost:8080/"
        }
      },
      "id": "3hQu0bk89wLE",
      "execution_count": null,
      "outputs": [
        {
          "output_type": "stream",
          "name": "stdout",
          "text": [
            "middle value in data: 13.0\n"
          ]
        }
      ]
    },
    {
      "cell_type": "code",
      "source": [
        "print(data[0:4, 0:10])"
      ],
      "metadata": {
        "id": "u_KgbjyB97bu",
        "outputId": "c4519581-6bb8-4829-e806-5592e6891272",
        "colab": {
          "base_uri": "https://localhost:8080/"
        }
      },
      "id": "u_KgbjyB97bu",
      "execution_count": null,
      "outputs": [
        {
          "output_type": "stream",
          "name": "stdout",
          "text": [
            "[[0. 0. 1. 3. 1. 2. 4. 7. 8. 3.]\n",
            " [0. 1. 2. 1. 2. 1. 3. 2. 2. 6.]\n",
            " [0. 1. 1. 3. 3. 2. 6. 2. 5. 9.]\n",
            " [0. 0. 2. 0. 4. 2. 2. 1. 6. 7.]]\n"
          ]
        }
      ]
    },
    {
      "cell_type": "code",
      "source": [
        "print(data[5:10, 0:10])"
      ],
      "metadata": {
        "id": "WisyYbbd-LL7",
        "outputId": "600120c9-642e-4d4a-8120-a2c452888554",
        "colab": {
          "base_uri": "https://localhost:8080/"
        }
      },
      "id": "WisyYbbd-LL7",
      "execution_count": null,
      "outputs": [
        {
          "output_type": "stream",
          "name": "stdout",
          "text": [
            "[[0. 0. 1. 2. 2. 4. 2. 1. 6. 4.]\n",
            " [0. 0. 2. 2. 4. 2. 2. 5. 5. 8.]\n",
            " [0. 0. 1. 2. 3. 1. 2. 3. 5. 3.]\n",
            " [0. 0. 0. 3. 1. 5. 6. 5. 5. 8.]\n",
            " [0. 1. 1. 2. 1. 3. 5. 3. 5. 8.]]\n"
          ]
        }
      ]
    },
    {
      "cell_type": "code",
      "source": [
        "small = data[:3, 36:]\n",
        "print('small is:')\n",
        "print(small)"
      ],
      "metadata": {
        "id": "i2OOmNH6-lIq",
        "outputId": "aa4ba3bd-68aa-4e3e-a1ea-74564178fc84",
        "colab": {
          "base_uri": "https://localhost:8080/"
        }
      },
      "id": "i2OOmNH6-lIq",
      "execution_count": null,
      "outputs": [
        {
          "output_type": "stream",
          "name": "stdout",
          "text": [
            "small is:\n",
            "[[2. 3. 0. 0.]\n",
            " [1. 1. 0. 1.]\n",
            " [2. 2. 1. 1.]]\n"
          ]
        }
      ]
    },
    {
      "cell_type": "code",
      "source": [
        "print(numpy.mean(data))"
      ],
      "metadata": {
        "id": "XtNv9T_l-tEs",
        "outputId": "d9d418ae-b003-4919-f18f-05c30c4ea71a",
        "colab": {
          "base_uri": "https://localhost:8080/"
        }
      },
      "id": "XtNv9T_l-tEs",
      "execution_count": null,
      "outputs": [
        {
          "output_type": "stream",
          "name": "stdout",
          "text": [
            "6.14875\n"
          ]
        }
      ]
    },
    {
      "cell_type": "code",
      "source": [
        "import time\n",
        "print(time.ctime())"
      ],
      "metadata": {
        "id": "7aBqsgCL_Tzp",
        "outputId": "c2deb71b-1811-4aeb-e3ca-89c136f16fee",
        "colab": {
          "base_uri": "https://localhost:8080/"
        }
      },
      "id": "7aBqsgCL_Tzp",
      "execution_count": null,
      "outputs": [
        {
          "output_type": "stream",
          "name": "stdout",
          "text": [
            "Tue Jun  6 18:35:34 2023\n"
          ]
        }
      ]
    },
    {
      "cell_type": "code",
      "source": [
        "maxval, minval, stdval = numpy.max(data), numpy.min(data), numpy.std(data)\n",
        "\n",
        "print('maxval is', maxval)\n",
        "print('minval is', minval)\n",
        "print('standard deviation is', stdval)"
      ],
      "metadata": {
        "id": "QdyGDGms_i8b",
        "outputId": "2da83144-bb9f-47e0-d316-00086c9bb3c2",
        "colab": {
          "base_uri": "https://localhost:8080/"
        }
      },
      "id": "QdyGDGms_i8b",
      "execution_count": null,
      "outputs": [
        {
          "output_type": "stream",
          "name": "stdout",
          "text": [
            "maxval is 20.0\n",
            "minval is 0.0\n",
            "standard deviation is 4.613833197118566\n"
          ]
        }
      ]
    },
    {
      "cell_type": "code",
      "source": [
        "print('maximum inflammation for patient 2:', numpy.max(data[2, :]))"
      ],
      "metadata": {
        "id": "DdgniDwK_8-q",
        "outputId": "bacef28c-72d0-4483-f552-55b45a7dbd65",
        "colab": {
          "base_uri": "https://localhost:8080/"
        }
      },
      "id": "DdgniDwK_8-q",
      "execution_count": null,
      "outputs": [
        {
          "output_type": "stream",
          "name": "stdout",
          "text": [
            "maximum inflammation for patient 2: 19.0\n"
          ]
        }
      ]
    },
    {
      "cell_type": "code",
      "source": [
        "print(numpy.mean(data, axis=0))"
      ],
      "metadata": {
        "id": "gVNLMV2OAaRw",
        "outputId": "7805dc41-f29e-4006-94b9-644f54b3f181",
        "colab": {
          "base_uri": "https://localhost:8080/"
        }
      },
      "id": "gVNLMV2OAaRw",
      "execution_count": null,
      "outputs": [
        {
          "output_type": "stream",
          "name": "stdout",
          "text": [
            "[ 0.          0.45        1.11666667  1.75        2.43333333  3.15\n",
            "  3.8         3.88333333  5.23333333  5.51666667  5.95        5.9\n",
            "  8.35        7.73333333  8.36666667  9.5         9.58333333 10.63333333\n",
            " 11.56666667 12.35       13.25       11.96666667 11.03333333 10.16666667\n",
            " 10.          8.66666667  9.15        7.25        7.33333333  6.58333333\n",
            "  6.06666667  5.95        5.11666667  3.6         3.3         3.56666667\n",
            "  2.48333333  1.5         1.13333333  0.56666667]\n"
          ]
        }
      ]
    },
    {
      "cell_type": "code",
      "source": [
        "print(numpy.shape(data))"
      ],
      "metadata": {
        "id": "hhtsRYiRA1RY",
        "outputId": "d82c411d-a1db-40cb-ca1d-636b0caffc3d",
        "colab": {
          "base_uri": "https://localhost:8080/"
        }
      },
      "id": "hhtsRYiRA1RY",
      "execution_count": null,
      "outputs": [
        {
          "output_type": "stream",
          "name": "stdout",
          "text": [
            "(60, 40)\n"
          ]
        }
      ]
    },
    {
      "cell_type": "code",
      "source": [
        "print(numpy.mean(data, axis=1))"
      ],
      "metadata": {
        "id": "D-OPwRTQBKeA",
        "outputId": "13ff0ec9-f894-40be-a5cf-fdc81b66c9a8",
        "colab": {
          "base_uri": "https://localhost:8080/"
        }
      },
      "id": "D-OPwRTQBKeA",
      "execution_count": null,
      "outputs": [
        {
          "output_type": "stream",
          "name": "stdout",
          "text": [
            "[5.45  5.425 6.1   5.9   5.55  6.225 5.975 6.65  6.625 6.525 6.775 5.8\n",
            " 6.225 5.75  5.225 6.3   6.55  5.7   5.85  6.55  5.775 5.825 6.175 6.1\n",
            " 5.8   6.425 6.05  6.025 6.175 6.55  6.175 6.35  6.725 6.125 7.075 5.725\n",
            " 5.925 6.15  6.075 5.75  5.975 5.725 6.3   5.9   6.75  5.925 7.225 6.15\n",
            " 5.95  6.275 5.7   6.1   6.825 5.975 6.725 5.7   6.25  6.4   7.05  5.9  ]\n"
          ]
        }
      ]
    },
    {
      "cell_type": "code",
      "source": [
        "inflammation_for_each_patient_per_day"
      ],
      "metadata": {
        "id": "BgJWpY_LBjXt",
        "outputId": "5469be6e-6f53-4de8-a3ba-06e14158146e",
        "colab": {
          "base_uri": "https://localhost:8080/",
          "height": 171
        }
      },
      "id": "BgJWpY_LBjXt",
      "execution_count": null,
      "outputs": [
        {
          "output_type": "error",
          "ename": "NameError",
          "evalue": "ignored",
          "traceback": [
            "\u001b[0;31m---------------------------------------------------------------------------\u001b[0m",
            "\u001b[0;31mNameError\u001b[0m                                 Traceback (most recent call last)",
            "\u001b[0;32m<ipython-input-46-080875ce8452>\u001b[0m in \u001b[0;36m<cell line: 1>\u001b[0;34m()\u001b[0m\n\u001b[0;32m----> 1\u001b[0;31m \u001b[0minflammation_for_each_patient_per_day\u001b[0m\u001b[0;34m\u001b[0m\u001b[0;34m\u001b[0m\u001b[0m\n\u001b[0m",
            "\u001b[0;31mNameError\u001b[0m: name 'inflammation_for_each_patient_per_day' is not defined"
          ]
        }
      ]
    },
    {
      "cell_type": "code",
      "source": [
        "element = 'oxygen'\n",
        "print('first three characters:', element[0:3])\n",
        "print('last three characters:', element[3:6])"
      ],
      "metadata": {
        "id": "DZKpjmzQCaH1",
        "outputId": "fda64688-e2fc-4995-8e3d-3a1a0a46ee31",
        "colab": {
          "base_uri": "https://localhost:8080/"
        }
      },
      "id": "DZKpjmzQCaH1",
      "execution_count": null,
      "outputs": [
        {
          "output_type": "stream",
          "name": "stdout",
          "text": [
            "first three characters: oxy\n",
            "last three characters: gen\n"
          ]
        }
      ]
    },
    {
      "cell_type": "code",
      "source": [
        "import matplotlib.pyplot"
      ],
      "metadata": {
        "id": "tyVnCgV7C02L"
      },
      "id": "tyVnCgV7C02L",
      "execution_count": null,
      "outputs": []
    },
    {
      "cell_type": "code",
      "source": [
        "image = matplotlib.pyplot.imshow(data)\n",
        "matplotlib.pyplot.show()"
      ],
      "metadata": {
        "id": "OgCyUA1MFx7k",
        "outputId": "ff7e2965-f0da-448b-bc6d-2a5becbd3e88",
        "colab": {
          "base_uri": "https://localhost:8080/",
          "height": 432
        }
      },
      "id": "OgCyUA1MFx7k",
      "execution_count": null,
      "outputs": [
        {
          "output_type": "display_data",
          "data": {
            "text/plain": [
              "<Figure size 640x480 with 1 Axes>"
            ],
            "image/png": "[encoded data removed]"
          },
          "metadata": {}
        }
      ]
    },
    {
      "cell_type": "code",
      "source": [
        "ave_inflammation = numpy.mean(data, axis=0)\n",
        "ave_plot = matplotlib.pyplot.plot(ave_inflammation)\n",
        "matplotlib.pyplot.show()"
      ],
      "metadata": {
        "id": "WC0-BKQkGBwm",
        "outputId": "78d44fbe-b103-4071-98a9-8650e2c16a08",
        "colab": {
          "base_uri": "https://localhost:8080/",
          "height": 430
        }
      },
      "id": "WC0-BKQkGBwm",
      "execution_count": null,
      "outputs": [
        {
          "output_type": "display_data",
          "data": {
            "text/plain": [
              "<Figure size 640x480 with 1 Axes>"
            ],
            "image/png": "[encoded data removed]"
          },
          "metadata": {}
        }
      ]
    },
    {
      "cell_type": "code",
      "source": [
        "max_plot = matplotlib.pyplot.plot(numpy.max(data, axis=0))\n",
        "matplotlib.pyplot.show()"
      ],
      "metadata": {
        "id": "yHSxgDI1Giv2",
        "outputId": "278f6e8a-67ee-49ce-811e-f31ea2490b44",
        "colab": {
          "base_uri": "https://localhost:8080/",
          "height": 430
        }
      },
      "id": "yHSxgDI1Giv2",
      "execution_count": null,
      "outputs": [
        {
          "output_type": "display_data",
          "data": {
            "text/plain": [
              "<Figure size 640x480 with 1 Axes>"
            ],
            "image/png": "[encoded data removed]"
          },
          "metadata": {}
        }
      ]
    },
    {
      "cell_type": "code",
      "source": [
        "min_plot = matplotlib.pyplot.plot(numpy.min(data, axis=0))\n",
        "matplotlib.pyplot.show()"
      ],
      "metadata": {
        "id": "ZutfTg4OG12R",
        "outputId": "acfe7465-91f9-44b8-b6b6-a3315d3851d1",
        "colab": {
          "base_uri": "https://localhost:8080/",
          "height": 430
        }
      },
      "id": "ZutfTg4OG12R",
      "execution_count": null,
      "outputs": [
        {
          "output_type": "display_data",
          "data": {
            "text/plain": [
              "<Figure size 640x480 with 1 Axes>"
            ],
            "image/png": "[encoded data removed]"
          },
          "metadata": {}
        }
      ]
    },
    {
      "cell_type": "code",
      "source": [
        "fig = matplotlib.pyplot.figure(figsize=(10.0, 3.0))\n",
        "\n",
        "axes1 = fig.add_subplot(1, 3, 1)\n",
        "axes2 = fig.add_subplot(1, 3, 2)\n",
        "axes3 = fig.add_subplot(1, 3, 3)\n",
        "\n",
        "axes1.set_ylabel('average')\n",
        "axes1.plot(numpy.mean(data, axis=0))\n",
        "\n",
        "axes2.set_ylabel('max')\n",
        "axes2.plot(numpy.max(data, axis=0))\n",
        "\n",
        "axes3.set_ylabel('min')\n",
        "axes3.plot(numpy.min(data, axis=0))\n",
        "\n",
        "fig.tight_layout()\n",
        "\n",
        "matplotlib.pyplot.savefig('inflammation.png')\n",
        "matplotlib.pyplot.show()"
      ],
      "metadata": {
        "id": "gsy5i3BdHD1P",
        "outputId": "181047e4-1a68-4447-fc8f-ad219e0a143c",
        "colab": {
          "base_uri": "https://localhost:8080/",
          "height": 307
        }
      },
      "id": "gsy5i3BdHD1P",
      "execution_count": null,
      "outputs": [
        {
          "output_type": "display_data",
          "data": {
            "text/plain": [
              "<Figure size 1000x300 with 3 Axes>"
            ],
            "image/png": "[encoded data removed]"
          },
          "metadata": {}
        }
      ]
    },
    {
      "cell_type": "code",
      "source": [
        "odds = [1, 3, 5, 7]\n",
        "print('odds are:', odds)"
      ],
      "metadata": {
        "id": "c_HCgAPOIRAS",
        "outputId": "b3f54e45-2cf0-4785-91e0-270e873c3770",
        "colab": {
          "base_uri": "https://localhost:8080/"
        }
      },
      "id": "c_HCgAPOIRAS",
      "execution_count": null,
      "outputs": [
        {
          "output_type": "stream",
          "name": "stdout",
          "text": [
            "odds are: [1, 3, 5, 7]\n"
          ]
        }
      ]
    },
    {
      "cell_type": "code",
      "source": [
        "print('first element:', odds[0])\n",
        "print('last element:', odds[3])\n",
        "print('\"-1th\" elemennt:', odds[-1])\n",
        "      "
      ],
      "metadata": {
        "id": "ru7HpAzIIytW",
        "outputId": "3b08cc5e-97a9-488f-b0d6-2463fabca421",
        "colab": {
          "base_uri": "https://localhost:8080/"
        }
      },
      "id": "ru7HpAzIIytW",
      "execution_count": null,
      "outputs": [
        {
          "output_type": "stream",
          "name": "stdout",
          "text": [
            "first element: 1\n",
            "last element: 7\n",
            "\"-1th\" elemennt: 7\n"
          ]
        }
      ]
    },
    {
      "cell_type": "code",
      "source": [
        "names = ['Curie', 'Darwing', 'Turing']  # typo in Darwin's name\n",
        "print('names is originally', names)\n",
        "names[1] = 'Darwin'\n",
        "print('final value of names', names)"
      ],
      "metadata": {
        "id": "QAjxKRM0JCIR",
        "outputId": "2d1524db-4a12-49e9-e09d-2995ef4c34f4",
        "colab": {
          "base_uri": "https://localhost:8080/"
        }
      },
      "id": "QAjxKRM0JCIR",
      "execution_count": null,
      "outputs": [
        {
          "output_type": "stream",
          "name": "stdout",
          "text": [
            "names is originally ['Curie', 'Darwing', 'Turing']\n",
            "final value of names ['Curie', 'Darwin', 'Turing']\n"
          ]
        }
      ]
    },
    {
      "cell_type": "code",
      "source": [
        "name = 'Darwin'\n",
        "name[0] = 'd'"
      ],
      "metadata": {
        "id": "Rtzh71QeJmis",
        "outputId": "679c628b-7994-44e6-8410-247aa43a6460",
        "colab": {
          "base_uri": "https://localhost:8080/",
          "height": 189
        }
      },
      "id": "Rtzh71QeJmis",
      "execution_count": null,
      "outputs": [
        {
          "output_type": "error",
          "ename": "TypeError",
          "evalue": "ignored",
          "traceback": [
            "\u001b[0;31m---------------------------------------------------------------------------\u001b[0m",
            "\u001b[0;31mTypeError\u001b[0m                                 Traceback (most recent call last)",
            "\u001b[0;32m<ipython-input-57-9030064e45ad>\u001b[0m in \u001b[0;36m<cell line: 2>\u001b[0;34m()\u001b[0m\n\u001b[1;32m      1\u001b[0m \u001b[0mname\u001b[0m \u001b[0;34m=\u001b[0m \u001b[0;34m'Darwin'\u001b[0m\u001b[0;34m\u001b[0m\u001b[0;34m\u001b[0m\u001b[0m\n\u001b[0;32m----> 2\u001b[0;31m \u001b[0mname\u001b[0m\u001b[0;34m[\u001b[0m\u001b[0;36m0\u001b[0m\u001b[0;34m]\u001b[0m \u001b[0;34m=\u001b[0m \u001b[0;34m'd'\u001b[0m\u001b[0;34m\u001b[0m\u001b[0;34m\u001b[0m\u001b[0m\n\u001b[0m",
            "\u001b[0;31mTypeError\u001b[0m: 'str' object does not support item assignment"
          ]
        }
      ]
    },
    {
      "cell_type": "code",
      "source": [
        "# lists are mutable (changeable)\n",
        "# strings are immutable (unchangeable)"
      ],
      "metadata": {
        "id": "aHxJ1ap6J3Fg"
      },
      "id": "aHxJ1ap6J3Fg",
      "execution_count": null,
      "outputs": []
    },
    {
      "cell_type": "code",
      "source": [
        "salsa = ['peppers', 'onions', 'cilantro', 'tomatoes']\n",
        "my_salsa = salsa  # <-- my_salsa and salsa point to the same 'list'\n",
        "salsa[0] = 'hot peppers'\n",
        "print('Ingredients in my salsa:', my_salsa)"
      ],
      "metadata": {
        "id": "NdAXmmzsKKwP",
        "outputId": "dc37810d-68f8-468d-9d3a-6748659c100f",
        "colab": {
          "base_uri": "https://localhost:8080/"
        }
      },
      "id": "NdAXmmzsKKwP",
      "execution_count": null,
      "outputs": [
        {
          "output_type": "stream",
          "name": "stdout",
          "text": [
            "Ingredients in my salsa: ['hot peppers', 'onions', 'cilantro', 'tomatoes']\n"
          ]
        }
      ]
    },
    {
      "cell_type": "code",
      "source": [
        "salsa = ['peppers', 'onions', 'cilantro', 'tomatoes']\n",
        "my_salsa = list(salsa)  # <-- makes a copy of the list\n",
        "salsa[0] = 'hot peppers'\n",
        "print('Ingredients in my salsa:', my_salsa)"
      ],
      "metadata": {
        "id": "M6T3muXHKkRg",
        "outputId": "4254842e-0f7f-4d09-f3f2-f0402956d983",
        "colab": {
          "base_uri": "https://localhost:8080/"
        }
      },
      "id": "M6T3muXHKkRg",
      "execution_count": null,
      "outputs": [
        {
          "output_type": "stream",
          "name": "stdout",
          "text": [
            "Ingredients in my salsa: ['peppers', 'onions', 'cilantro', 'tomatoes']\n"
          ]
        }
      ]
    },
    {
      "cell_type": "code",
      "source": [
        "x = [ ['pepper', 'zucchini', 'onion'],\n",
        "      ['cabbage', 'lettuce', 'garlic'],\n",
        "      ['apple', 'pear', 'banana']]"
      ],
      "metadata": {
        "id": "IFvytqEfK05h"
      },
      "id": "IFvytqEfK05h",
      "execution_count": null,
      "outputs": []
    },
    {
      "cell_type": "code",
      "source": [
        "x.reverse()"
      ],
      "metadata": {
        "id": "Z2VprGWyMjYG"
      },
      "id": "Z2VprGWyMjYG",
      "execution_count": null,
      "outputs": []
    },
    {
      "cell_type": "code",
      "source": [
        "print(f\"x = {x}\")"
      ],
      "metadata": {
        "id": "hQvrCiqtMkeo",
        "outputId": "75f6cc3a-0833-415d-8153-e84a80c77738",
        "colab": {
          "base_uri": "https://localhost:8080/"
        }
      },
      "id": "hQvrCiqtMkeo",
      "execution_count": null,
      "outputs": [
        {
          "output_type": "stream",
          "name": "stdout",
          "text": [
            "x = [['apple', 'pear', 'banana'], ['cabbage', 'lettuce', 'garlic'], ['pepper', 'zucchini', 'onion']]\n"
          ]
        }
      ]
    },
    {
      "cell_type": "code",
      "source": [
        "print(f\"{x=}\")  # f-strings are awesome to the max"
      ],
      "metadata": {
        "id": "qNMlYELyMx1S",
        "outputId": "9d44ad0a-4085-4908-ae49-ad997c200122",
        "colab": {
          "base_uri": "https://localhost:8080/"
        }
      },
      "id": "qNMlYELyMx1S",
      "execution_count": null,
      "outputs": [
        {
          "output_type": "stream",
          "name": "stdout",
          "text": [
            "x=[['apple', 'pear', 'banana'], ['cabbage', 'lettuce', 'garlic'], ['pepper', 'zucchini', 'onion']]\n"
          ]
        }
      ]
    },
    {
      "cell_type": "code",
      "source": [
        "print(x[0])"
      ],
      "metadata": {
        "id": "VsBhbbdsLUCb",
        "outputId": "0eb84cf4-3c0b-4233-9f9e-bfd95ae7ee1f",
        "colab": {
          "base_uri": "https://localhost:8080/"
        }
      },
      "id": "VsBhbbdsLUCb",
      "execution_count": null,
      "outputs": [
        {
          "output_type": "stream",
          "name": "stdout",
          "text": [
            "['pepper', 'zucchini', 'onion']\n"
          ]
        }
      ]
    },
    {
      "cell_type": "code",
      "source": [
        "print(x[0][0])"
      ],
      "metadata": {
        "id": "zNfyuh1aLX6z",
        "outputId": "1ca6ab81-a0bd-4f8c-b3a1-bc57b07cfa8b",
        "colab": {
          "base_uri": "https://localhost:8080/"
        }
      },
      "id": "zNfyuh1aLX6z",
      "execution_count": null,
      "outputs": [
        {
          "output_type": "stream",
          "name": "stdout",
          "text": [
            "pepper\n"
          ]
        }
      ]
    },
    {
      "cell_type": "code",
      "source": [
        "sample_ages = [10, 12.5, 'unknown']"
      ],
      "metadata": {
        "id": "Po_xg9b4Leyh"
      },
      "id": "Po_xg9b4Leyh",
      "execution_count": null,
      "outputs": []
    },
    {
      "cell_type": "code",
      "source": [
        "odds.append(11)"
      ],
      "metadata": {
        "id": "XWXSe-N9Lsw8"
      },
      "id": "XWXSe-N9Lsw8",
      "execution_count": null,
      "outputs": []
    },
    {
      "cell_type": "code",
      "source": [
        "print(odds)"
      ],
      "metadata": {
        "id": "_KFwf2oHLzg5",
        "outputId": "6c5b2db6-7904-4766-cc53-f201258cefa4",
        "colab": {
          "base_uri": "https://localhost:8080/"
        }
      },
      "id": "_KFwf2oHLzg5",
      "execution_count": null,
      "outputs": [
        {
          "output_type": "stream",
          "name": "stdout",
          "text": [
            "[1, 3, 5, 7, 11]\n"
          ]
        }
      ]
    },
    {
      "cell_type": "code",
      "source": [
        "removed_element = odds.pop(0)\n",
        "print('odds after removing first element:', odds)\n",
        "print('removed_element:', removed_element)"
      ],
      "metadata": {
        "id": "xGw8sqP-L04h",
        "outputId": "e5fe8bbf-3ff2-4ce0-d4f2-ae4429983639",
        "colab": {
          "base_uri": "https://localhost:8080/"
        }
      },
      "id": "xGw8sqP-L04h",
      "execution_count": null,
      "outputs": [
        {
          "output_type": "stream",
          "name": "stdout",
          "text": [
            "odds after removing first element: [3, 5, 7, 11]\n",
            "removed_element: 1\n"
          ]
        }
      ]
    },
    {
      "cell_type": "code",
      "source": [
        "odds.reverse()\n",
        "print('odds after reversing:', odds)"
      ],
      "metadata": {
        "id": "vallj0m7MEC2",
        "outputId": "3072293e-b82b-42ed-cbd0-2acdcde788d8",
        "colab": {
          "base_uri": "https://localhost:8080/"
        }
      },
      "id": "vallj0m7MEC2",
      "execution_count": null,
      "outputs": [
        {
          "output_type": "stream",
          "name": "stdout",
          "text": [
            "odds after reversing: [11, 7, 5, 3]\n"
          ]
        }
      ]
    },
    {
      "cell_type": "code",
      "source": [
        "example_tuple = (1, 3, 5)\n",
        "print(f\"{example_tuple = }\")"
      ],
      "metadata": {
        "id": "KFS9NJ1tMXVQ",
        "outputId": "34785ea6-a489-47b4-a973-001e6ffda8f4",
        "colab": {
          "base_uri": "https://localhost:8080/"
        }
      },
      "id": "KFS9NJ1tMXVQ",
      "execution_count": null,
      "outputs": [
        {
          "output_type": "stream",
          "name": "stdout",
          "text": [
            "example_tuple = (1, 3, 5)\n"
          ]
        }
      ]
    },
    {
      "cell_type": "code",
      "source": [
        "example_tuple[1] = -3"
      ],
      "metadata": {
        "id": "w9liENSQNQ-C",
        "outputId": "a290918d-b031-4f45-a2cb-83615017969a",
        "colab": {
          "base_uri": "https://localhost:8080/",
          "height": 171
        }
      },
      "id": "w9liENSQNQ-C",
      "execution_count": null,
      "outputs": [
        {
          "output_type": "error",
          "ename": "TypeError",
          "evalue": "ignored",
          "traceback": [
            "\u001b[0;31m---------------------------------------------------------------------------\u001b[0m",
            "\u001b[0;31mTypeError\u001b[0m                                 Traceback (most recent call last)",
            "\u001b[0;32m<ipython-input-75-e35dd4742ca6>\u001b[0m in \u001b[0;36m<cell line: 1>\u001b[0;34m()\u001b[0m\n\u001b[0;32m----> 1\u001b[0;31m \u001b[0mexample_tuple\u001b[0m\u001b[0;34m[\u001b[0m\u001b[0;36m1\u001b[0m\u001b[0;34m]\u001b[0m \u001b[0;34m=\u001b[0m \u001b[0;34m-\u001b[0m\u001b[0;36m3\u001b[0m\u001b[0;34m\u001b[0m\u001b[0;34m\u001b[0m\u001b[0m\n\u001b[0m",
            "\u001b[0;31mTypeError\u001b[0m: 'tuple' object does not support item assignment"
          ]
        }
      ]
    },
    {
      "cell_type": "code",
      "source": [
        "odds = [1, 3, 5]\n",
        "print(odds[0])\n",
        "print(odds[1])\n",
        "print(odds[2])\n",
        "print(odds[3])"
      ],
      "metadata": {
        "id": "9Md0l9jiNX0C",
        "outputId": "527154eb-d735-4c0a-8ac9-9029fb77b7d8",
        "colab": {
          "base_uri": "https://localhost:8080/",
          "height": 262
        }
      },
      "id": "9Md0l9jiNX0C",
      "execution_count": null,
      "outputs": [
        {
          "output_type": "stream",
          "name": "stdout",
          "text": [
            "1\n",
            "3\n",
            "5\n"
          ]
        },
        {
          "output_type": "error",
          "ename": "IndexError",
          "evalue": "ignored",
          "traceback": [
            "\u001b[0;31m---------------------------------------------------------------------------\u001b[0m",
            "\u001b[0;31mIndexError\u001b[0m                                Traceback (most recent call last)",
            "\u001b[0;32m<ipython-input-78-b48c9fadc7bf>\u001b[0m in \u001b[0;36m<cell line: 5>\u001b[0;34m()\u001b[0m\n\u001b[1;32m      3\u001b[0m \u001b[0mprint\u001b[0m\u001b[0;34m(\u001b[0m\u001b[0modds\u001b[0m\u001b[0;34m[\u001b[0m\u001b[0;36m1\u001b[0m\u001b[0;34m]\u001b[0m\u001b[0;34m)\u001b[0m\u001b[0;34m\u001b[0m\u001b[0;34m\u001b[0m\u001b[0m\n\u001b[1;32m      4\u001b[0m \u001b[0mprint\u001b[0m\u001b[0;34m(\u001b[0m\u001b[0modds\u001b[0m\u001b[0;34m[\u001b[0m\u001b[0;36m2\u001b[0m\u001b[0;34m]\u001b[0m\u001b[0;34m)\u001b[0m\u001b[0;34m\u001b[0m\u001b[0;34m\u001b[0m\u001b[0m\n\u001b[0;32m----> 5\u001b[0;31m \u001b[0mprint\u001b[0m\u001b[0;34m(\u001b[0m\u001b[0modds\u001b[0m\u001b[0;34m[\u001b[0m\u001b[0;36m3\u001b[0m\u001b[0;34m]\u001b[0m\u001b[0;34m)\u001b[0m\u001b[0;34m\u001b[0m\u001b[0;34m\u001b[0m\u001b[0m\n\u001b[0m",
            "\u001b[0;31mIndexError\u001b[0m: list index out of range"
          ]
        }
      ]
    },
    {
      "cell_type": "code",
      "source": [
        "for num in odds:\n",
        "    print(num)"
      ],
      "metadata": {
        "id": "ckGZEwzONwVO",
        "outputId": "00bfe186-8eb5-49a4-a74f-a5bea5ffbb1f",
        "colab": {
          "base_uri": "https://localhost:8080/"
        }
      },
      "id": "ckGZEwzONwVO",
      "execution_count": null,
      "outputs": [
        {
          "output_type": "stream",
          "name": "stdout",
          "text": [
            "1\n",
            "3\n",
            "5\n"
          ]
        }
      ]
    },
    {
      "cell_type": "code",
      "source": [
        "# for variable in collection:\n",
        "#     do things using variable, like print"
      ],
      "metadata": {
        "id": "zoiTDFVIN8pb"
      },
      "id": "zoiTDFVIN8pb",
      "execution_count": null,
      "outputs": []
    },
    {
      "cell_type": "code",
      "source": [
        "print(len(odds))"
      ],
      "metadata": {
        "id": "8OLb149OOeRF",
        "outputId": "ca558ed4-b4fb-4c50-e612-7f7d9de512d5",
        "colab": {
          "base_uri": "https://localhost:8080/"
        }
      },
      "id": "8OLb149OOeRF",
      "execution_count": null,
      "outputs": [
        {
          "output_type": "stream",
          "name": "stdout",
          "text": [
            "3\n"
          ]
        }
      ]
    },
    {
      "cell_type": "code",
      "source": [
        "import glob"
      ],
      "metadata": {
        "id": "FgYpI54DOiaG"
      },
      "id": "FgYpI54DOiaG",
      "execution_count": null,
      "outputs": []
    },
    {
      "cell_type": "code",
      "source": [
        "print(glob.glob('inflammation*.csv'))"
      ],
      "metadata": {
        "id": "Op_SRySROstJ",
        "outputId": "5d094c1b-dafc-4f0b-e94e-8083febcc5bd",
        "colab": {
          "base_uri": "https://localhost:8080/"
        }
      },
      "id": "Op_SRySROstJ",
      "execution_count": null,
      "outputs": [
        {
          "output_type": "stream",
          "name": "stdout",
          "text": [
            "['inflammation-09.csv', 'inflammation-10.csv', 'inflammation-12.csv', 'inflammation-08.csv', 'inflammation-02.csv', 'inflammation-04.csv', 'inflammation-07.csv', 'inflammation-01.csv', 'inflammation-03.csv', 'inflammation-05.csv', 'inflammation-06.csv', 'inflammation-11.csv']\n"
          ]
        }
      ]
    },
    {
      "cell_type": "code",
      "source": [
        "print(sorted(glob.glob('inflam*.csv')))"
      ],
      "metadata": {
        "id": "MeypA7TBOzJk",
        "outputId": "be85a3f6-4000-4ad2-e9df-6474c06e3232",
        "colab": {
          "base_uri": "https://localhost:8080/"
        }
      },
      "id": "MeypA7TBOzJk",
      "execution_count": null,
      "outputs": [
        {
          "output_type": "stream",
          "name": "stdout",
          "text": [
            "['inflammation-01.csv', 'inflammation-02.csv', 'inflammation-03.csv', 'inflammation-04.csv', 'inflammation-05.csv', 'inflammation-06.csv', 'inflammation-07.csv', 'inflammation-08.csv', 'inflammation-09.csv', 'inflammation-10.csv', 'inflammation-11.csv', 'inflammation-12.csv']\n"
          ]
        }
      ]
    },
    {
      "cell_type": "code",
      "source": [
        "import glob\n",
        "import numpy\n",
        "import matplotlib.pyplot\n",
        "\n",
        "filenames = sorted(glob.glob('*.csv'))\n",
        "filenames = filenames[:3]\n",
        "\n",
        "for filename in filenames:\n",
        "    print(filename)\n",
        "\n",
        "    data = numpy.loadtxt(fname=filename, delimiter=',')\n",
        "\n",
        "    fig = matplotlib.pyplot.figure(figsize=(10, 3))\n",
        "\n",
        "    axes1 = fig.add_subplot(1, 3, 1)\n",
        "    axes2 = fig.add_subplot(1, 3, 2)\n",
        "    axes3 = fig.add_subplot(1, 3, 3)\n",
        "\n",
        "    axes1.set_ylabel('average')\n",
        "    axes1.plot(numpy.mean(data, axis=0))\n",
        "\n",
        "    axes2.set_ylabel('max')\n",
        "    axes2.plot(numpy.max(data, axis=0))\n",
        "\n",
        "    axes3.set_ylabel('min')\n",
        "    axes3.plot(numpy.min(data, axis=0))\n",
        "\n",
        "    fig.tight_layout()\n",
        "    \n",
        "    matplotlib.pyplot.show()"
      ],
      "metadata": {
        "id": "h--brUXFPEFJ",
        "outputId": "5acfdd67-7ba7-4cc1-b24f-4c109f633ba5",
        "colab": {
          "base_uri": "https://localhost:8080/",
          "height": 941
        }
      },
      "id": "h--brUXFPEFJ",
      "execution_count": null,
      "outputs": [
        {
          "output_type": "stream",
          "name": "stdout",
          "text": [
            "inflammation-01.csv\n"
          ]
        },
        {
          "output_type": "display_data",
          "data": {
            "text/plain": [
              "<Figure size 1000x300 with 3 Axes>"
            ],
            "image/png": "[encoded data removed]"
          },
          "metadata": {}
        },
        {
          "output_type": "stream",
          "name": "stdout",
          "text": [
            "inflammation-02.csv\n"
          ]
        },
        {
          "output_type": "display_data",
          "data": {
            "text/plain": [
              "<Figure size 1000x300 with 3 Axes>"
            ],
            "image/png": "[encoded data removed]"
          },
          "metadata": {}
        },
        {
          "output_type": "stream",
          "name": "stdout",
          "text": [
            "inflammation-03.csv\n"
          ]
        },
        {
          "output_type": "display_data",
          "data": {
            "text/plain": [
              "<Figure size 1000x300 with 3 Axes>"
            ],
            "image/png": "[encoded data removed]"
          },
          "metadata": {}
        }
      ]
    },
    {
      "cell_type": "code",
      "source": [
        "num = 37\n",
        "if num > 100:\n",
        "    print('greater')\n",
        "else:\n",
        "    print('not greater')\n",
        "print('done')"
      ],
      "metadata": {
        "id": "J8r5NGtvQwhQ",
        "colab": {
          "base_uri": "https://localhost:8080/"
        },
        "outputId": "0c4dcc33-e47f-406b-a881-cabebb7a5598"
      },
      "id": "J8r5NGtvQwhQ",
      "execution_count": null,
      "outputs": [
        {
          "output_type": "stream",
          "name": "stdout",
          "text": [
            "not greater\n",
            "done\n"
          ]
        }
      ]
    },
    {
      "cell_type": "code",
      "source": [
        "num = -3\n",
        "\n",
        "if num > 0:\n",
        "    print(num, \"is positive\")\n",
        "elif num == 0:\n",
        "    print(num, \"is zero\")\n",
        "else:\n",
        "    print(num, 'is negative')"
      ],
      "metadata": {
        "colab": {
          "base_uri": "https://localhost:8080/"
        },
        "id": "XDTx51-BBxHx",
        "outputId": "401b8bc2-a71f-4b4c-db1e-bc4e70a126e5"
      },
      "id": "XDTx51-BBxHx",
      "execution_count": null,
      "outputs": [
        {
          "output_type": "stream",
          "name": "stdout",
          "text": [
            "-3 is negative\n"
          ]
        }
      ]
    },
    {
      "cell_type": "code",
      "source": [
        "if 1 > 0 and -1 >= 0:\n",
        "    print(\"both are true\")\n",
        "else:\n",
        "    print(\"at least one part is false\")"
      ],
      "metadata": {
        "colab": {
          "base_uri": "https://localhost:8080/"
        },
        "id": "GO9ubH2lFMRQ",
        "outputId": "4d3c90dc-9204-42f7-9ae4-ddf48b179afa"
      },
      "id": "GO9ubH2lFMRQ",
      "execution_count": null,
      "outputs": [
        {
          "output_type": "stream",
          "name": "stdout",
          "text": [
            "at least one part is false\n"
          ]
        }
      ]
    },
    {
      "cell_type": "code",
      "source": [
        "if (1 < 0) or (1 >= 0):\n",
        "    print('at least one test is true')"
      ],
      "metadata": {
        "colab": {
          "base_uri": "https://localhost:8080/"
        },
        "id": "dRWLVJC1FY8Y",
        "outputId": "cef9d2ea-c7d6-4bf5-c73d-a0ea8573de9f"
      },
      "id": "dRWLVJC1FY8Y",
      "execution_count": null,
      "outputs": [
        {
          "output_type": "stream",
          "name": "stdout",
          "text": [
            "at least one test is true\n"
          ]
        }
      ]
    },
    {
      "cell_type": "code",
      "source": [
        "if True:\n",
        "    print('true')"
      ],
      "metadata": {
        "colab": {
          "base_uri": "https://localhost:8080/"
        },
        "id": "ahUb98rUF2a3",
        "outputId": "8ddd7c14-2004-4883-ef79-b1d7493c5e24"
      },
      "id": "ahUb98rUF2a3",
      "execution_count": null,
      "outputs": [
        {
          "output_type": "stream",
          "name": "stdout",
          "text": [
            "true\n"
          ]
        }
      ]
    },
    {
      "cell_type": "code",
      "source": [
        "if False:\n",
        "    print('false')"
      ],
      "metadata": {
        "id": "0lJg4GjVF9SD"
      },
      "id": "0lJg4GjVF9SD",
      "execution_count": null,
      "outputs": []
    },
    {
      "cell_type": "code",
      "source": [
        "x = 1 if (3 > 0) else 0"
      ],
      "metadata": {
        "id": "1ao5q2UwGBBV"
      },
      "id": "1ao5q2UwGBBV",
      "execution_count": null,
      "outputs": []
    },
    {
      "cell_type": "code",
      "source": [
        "print(x)"
      ],
      "metadata": {
        "colab": {
          "base_uri": "https://localhost:8080/"
        },
        "id": "PuqYN5oBGLfg",
        "outputId": "8106681f-a232-47b2-d510-0df72229bef4"
      },
      "id": "PuqYN5oBGLfg",
      "execution_count": null,
      "outputs": [
        {
          "output_type": "stream",
          "name": "stdout",
          "text": [
            "1\n"
          ]
        }
      ]
    },
    {
      "cell_type": "code",
      "source": [
        "import numpy"
      ],
      "metadata": {
        "id": "3zK4_lJXGMZs"
      },
      "id": "3zK4_lJXGMZs",
      "execution_count": null,
      "outputs": []
    },
    {
      "cell_type": "code",
      "source": [
        "data"
      ],
      "metadata": {
        "colab": {
          "base_uri": "https://localhost:8080/",
          "height": 171
        },
        "id": "gqIqTNWhGYnX",
        "outputId": "7de3354f-2088-4ff0-fcd3-1a3d328e4d5b"
      },
      "id": "gqIqTNWhGYnX",
      "execution_count": null,
      "outputs": [
        {
          "output_type": "error",
          "ename": "NameError",
          "evalue": "ignored",
          "traceback": [
            "\u001b[0;31m---------------------------------------------------------------------------\u001b[0m",
            "\u001b[0;31mNameError\u001b[0m                                 Traceback (most recent call last)",
            "\u001b[0;32m<ipython-input-12-c5d84736ba45>\u001b[0m in \u001b[0;36m<cell line: 1>\u001b[0;34m()\u001b[0m\n\u001b[0;32m----> 1\u001b[0;31m \u001b[0mdata\u001b[0m\u001b[0;34m\u001b[0m\u001b[0;34m\u001b[0m\u001b[0m\n\u001b[0m",
            "\u001b[0;31mNameError\u001b[0m: name 'data' is not defined"
          ]
        }
      ]
    },
    {
      "cell_type": "code",
      "source": [
        "data = numpy.loadtxt('inflammation-01.csv', delimiter=',')"
      ],
      "metadata": {
        "id": "UMcd0m45GcPM"
      },
      "id": "UMcd0m45GcPM",
      "execution_count": null,
      "outputs": []
    },
    {
      "cell_type": "code",
      "source": [
        "print(data)"
      ],
      "metadata": {
        "colab": {
          "base_uri": "https://localhost:8080/"
        },
        "id": "SmijwUoTGjLb",
        "outputId": "ed8e2933-ea39-4a05-ab2f-d79160871b6e"
      },
      "id": "SmijwUoTGjLb",
      "execution_count": null,
      "outputs": [
        {
          "output_type": "stream",
          "name": "stdout",
          "text": [
            "[[0. 0. 1. ... 3. 0. 0.]\n",
            " [0. 1. 2. ... 1. 0. 1.]\n",
            " [0. 1. 1. ... 2. 1. 1.]\n",
            " ...\n",
            " [0. 1. 1. ... 1. 1. 1.]\n",
            " [0. 0. 0. ... 0. 2. 0.]\n",
            " [0. 0. 1. ... 1. 1. 0.]]\n"
          ]
        }
      ]
    },
    {
      "cell_type": "code",
      "source": [
        "max_inflammation_0 = numpy.max(data, axis=0)[0]"
      ],
      "metadata": {
        "id": "XkHizJCFGxUo"
      },
      "id": "XkHizJCFGxUo",
      "execution_count": null,
      "outputs": []
    },
    {
      "cell_type": "code",
      "source": [
        "max_inflammation_20 = numpy.max(data, axis=0)[20]"
      ],
      "metadata": {
        "id": "Rz1PPy0eHFNs"
      },
      "id": "Rz1PPy0eHFNs",
      "execution_count": null,
      "outputs": []
    },
    {
      "cell_type": "code",
      "source": [
        "print(f\"{max_inflammation_20 = }\")"
      ],
      "metadata": {
        "colab": {
          "base_uri": "https://localhost:8080/"
        },
        "id": "haNtKzvWH_PF",
        "outputId": "c4abee41-32c4-431e-b787-260afcc619cf"
      },
      "id": "haNtKzvWH_PF",
      "execution_count": null,
      "outputs": [
        {
          "output_type": "stream",
          "name": "stdout",
          "text": [
            "max_inflammation_20 = 20.0\n"
          ]
        }
      ]
    },
    {
      "cell_type": "code",
      "source": [
        "if max_inflammation_0 == 0 and max_inflammation_20 == 20:\n",
        "    print(\"Suspicious looking maxima!\")\n",
        "elif numpy.sum(numpy.min(data, axis=0)) == 0:\n",
        "    print(\"Minima add up to zero.\")\n",
        "else:\n",
        "    print(\"Seems ok!\")"
      ],
      "metadata": {
        "colab": {
          "base_uri": "https://localhost:8080/"
        },
        "id": "eqV7CSSNHLDz",
        "outputId": "91a8edce-f48c-4de9-cb3e-169955774bee"
      },
      "id": "eqV7CSSNHLDz",
      "execution_count": null,
      "outputs": [
        {
          "output_type": "stream",
          "name": "stdout",
          "text": [
            "Suspicious looking maxima!\n"
          ]
        }
      ]
    },
    {
      "cell_type": "code",
      "source": [
        "if '':\n",
        "    print(\"Empty string is true\")"
      ],
      "metadata": {
        "id": "uWgxkm6nHY7B"
      },
      "id": "uWgxkm6nHY7B",
      "execution_count": null,
      "outputs": []
    },
    {
      "cell_type": "code",
      "source": [
        "if 'garlic scapes':\n",
        "    print(\"Non-empty string is true\")"
      ],
      "metadata": {
        "colab": {
          "base_uri": "https://localhost:8080/"
        },
        "id": "5gbPV-TpJOpE",
        "outputId": "b5efb01d-f8a1-4dfa-801d-5b8087459dc7"
      },
      "id": "5gbPV-TpJOpE",
      "execution_count": null,
      "outputs": [
        {
          "output_type": "stream",
          "name": "stdout",
          "text": [
            "Non-empty string is true\n"
          ]
        }
      ]
    },
    {
      "cell_type": "code",
      "source": [
        "if []:\n",
        "    print(\"empty list is true\")"
      ],
      "metadata": {
        "id": "3ZwqBJldJW55"
      },
      "id": "3ZwqBJldJW55",
      "execution_count": null,
      "outputs": []
    },
    {
      "cell_type": "code",
      "source": [
        "if [1, 2, 3]:\n",
        "    print(\"non-empty list is true\")"
      ],
      "metadata": {
        "colab": {
          "base_uri": "https://localhost:8080/"
        },
        "id": "-RCxKdJVJdaj",
        "outputId": "06f9f76b-0106-4043-f2c7-1e549e5e1fb2"
      },
      "id": "-RCxKdJVJdaj",
      "execution_count": null,
      "outputs": [
        {
          "output_type": "stream",
          "name": "stdout",
          "text": [
            "non-empty list is true\n"
          ]
        }
      ]
    },
    {
      "cell_type": "code",
      "source": [
        "if 0:\n",
        "    print(\"zero is true\")"
      ],
      "metadata": {
        "id": "fMq7r0LUJi0q"
      },
      "id": "fMq7r0LUJi0q",
      "execution_count": null,
      "outputs": []
    },
    {
      "cell_type": "code",
      "source": [
        "if 1:\n",
        "    print(\"one is true\")"
      ],
      "metadata": {
        "colab": {
          "base_uri": "https://localhost:8080/"
        },
        "id": "OigS5LDWJqES",
        "outputId": "8dc14e3e-6872-4209-c451-cc618ad2ad4c"
      },
      "id": "OigS5LDWJqES",
      "execution_count": null,
      "outputs": [
        {
          "output_type": "stream",
          "name": "stdout",
          "text": [
            "one is true\n"
          ]
        }
      ]
    },
    {
      "cell_type": "code",
      "source": [
        "if -2:\n",
        "    print(\"two is too true\")"
      ],
      "metadata": {
        "colab": {
          "base_uri": "https://localhost:8080/"
        },
        "id": "OHdvj6rVJtHF",
        "outputId": "8c0dcb19-4a7c-4b64-89fc-1f310a6ffa1f"
      },
      "id": "OHdvj6rVJtHF",
      "execution_count": null,
      "outputs": [
        {
          "output_type": "stream",
          "name": "stdout",
          "text": [
            "two is too true\n"
          ]
        }
      ]
    },
    {
      "cell_type": "code",
      "source": [
        "if [False]:\n",
        "    print(\"list with false is true\")"
      ],
      "metadata": {
        "colab": {
          "base_uri": "https://localhost:8080/"
        },
        "id": "3_WfKm7IJyDQ",
        "outputId": "e43b9cd1-b527-47e7-9f76-d29dd036a159"
      },
      "id": "3_WfKm7IJyDQ",
      "execution_count": null,
      "outputs": [
        {
          "output_type": "stream",
          "name": "stdout",
          "text": [
            "list with false is true\n"
          ]
        }
      ]
    },
    {
      "cell_type": "code",
      "source": [
        "x = 1  # original value\n",
        "x += 1  # add one to x, assigning result back to x\n",
        "x *= 3  # multiply x by 3"
      ],
      "metadata": {
        "id": "lQLDuxXKJ-Aq"
      },
      "id": "lQLDuxXKJ-Aq",
      "execution_count": null,
      "outputs": []
    },
    {
      "cell_type": "code",
      "source": [
        "print(x)"
      ],
      "metadata": {
        "colab": {
          "base_uri": "https://localhost:8080/"
        },
        "id": "Sd8cjLqYKYwv",
        "outputId": "2ff510b4-1488-41cb-cb5b-bea798c4863a"
      },
      "id": "Sd8cjLqYKYwv",
      "execution_count": null,
      "outputs": [
        {
          "output_type": "stream",
          "name": "stdout",
          "text": [
            "6\n"
          ]
        }
      ]
    },
    {
      "cell_type": "code",
      "source": [
        "s = '.' \n",
        "s *= 3"
      ],
      "metadata": {
        "id": "XRiJY2IOKZ5n"
      },
      "id": "XRiJY2IOKZ5n",
      "execution_count": null,
      "outputs": []
    },
    {
      "cell_type": "code",
      "source": [
        "print(s)"
      ],
      "metadata": {
        "colab": {
          "base_uri": "https://localhost:8080/"
        },
        "id": "XoLBaZQYKkEZ",
        "outputId": "409a6ff9-a495-4dbe-f2b4-ba9bf4bbfbe2"
      },
      "id": "XoLBaZQYKkEZ",
      "execution_count": null,
      "outputs": [
        {
          "output_type": "stream",
          "name": "stdout",
          "text": [
            "...\n"
          ]
        }
      ]
    },
    {
      "cell_type": "code",
      "source": [
        "s += '!'\n",
        "print(s)"
      ],
      "metadata": {
        "colab": {
          "base_uri": "https://localhost:8080/"
        },
        "id": "dqLN5uiMKkv8",
        "outputId": "300408ce-3bf5-4df9-cbbc-c0a24e7792b4"
      },
      "id": "dqLN5uiMKkv8",
      "execution_count": null,
      "outputs": [
        {
          "output_type": "stream",
          "name": "stdout",
          "text": [
            "...!\n"
          ]
        }
      ]
    },
    {
      "cell_type": "code",
      "source": [
        "def fahr_to_celsius(temperature):\n",
        "    return ((temperature - 32) * 5/9)"
      ],
      "metadata": {
        "id": "RruMKpEFK2JW"
      },
      "id": "RruMKpEFK2JW",
      "execution_count": null,
      "outputs": []
    },
    {
      "cell_type": "code",
      "source": [
        "5/9"
      ],
      "metadata": {
        "colab": {
          "base_uri": "https://localhost:8080/"
        },
        "id": "_c2HBjpnLb9x",
        "outputId": "1dd6f26a-da5a-478c-d005-23b754e31208"
      },
      "id": "_c2HBjpnLb9x",
      "execution_count": null,
      "outputs": [
        {
          "output_type": "execute_result",
          "data": {
            "text/plain": [
              "0.5555555555555556"
            ]
          },
          "metadata": {},
          "execution_count": 39
        }
      ]
    },
    {
      "cell_type": "code",
      "source": [
        "fahr_to_celsius(32)"
      ],
      "metadata": {
        "colab": {
          "base_uri": "https://localhost:8080/"
        },
        "id": "JEKqk4TDLenX",
        "outputId": "74d33793-7e7c-43c3-c3e8-3307e5728ab7"
      },
      "id": "JEKqk4TDLenX",
      "execution_count": null,
      "outputs": [
        {
          "output_type": "execute_result",
          "data": {
            "text/plain": [
              "0.0"
            ]
          },
          "metadata": {},
          "execution_count": 40
        }
      ]
    },
    {
      "cell_type": "code",
      "source": [
        "def celsius_to_kelvin(temperature_c):\n",
        "    return temperature_c + 273.15\n",
        "\n",
        "print('freezing point of water in kelvin:', celsius_to_kelvin(0))"
      ],
      "metadata": {
        "colab": {
          "base_uri": "https://localhost:8080/"
        },
        "id": "uzahmVgSLrre",
        "outputId": "a90b7fdc-913d-425f-f258-5edd682ac80f"
      },
      "id": "uzahmVgSLrre",
      "execution_count": null,
      "outputs": [
        {
          "output_type": "stream",
          "name": "stdout",
          "text": [
            "freezing point of water in kelvin: 273.15\n"
          ]
        }
      ]
    },
    {
      "cell_type": "code",
      "source": [
        "def fahr_to_kelvin(temperature_f):\n",
        "    temperature_c = fahr_to_celsius(temperature_f)\n",
        "    temperature_k = celsius_to_kelvin(temperature_c)\n",
        "    return temperature_k\n",
        "\n",
        "print('boiling point of water in kelvin:', fahr_to_kelvin(212))"
      ],
      "metadata": {
        "colab": {
          "base_uri": "https://localhost:8080/"
        },
        "id": "SBjbBVp7L_dJ",
        "outputId": "1b9cecd2-54cc-490e-ad6e-a65b26ad5a45"
      },
      "id": "SBjbBVp7L_dJ",
      "execution_count": null,
      "outputs": [
        {
          "output_type": "stream",
          "name": "stdout",
          "text": [
            "boiling point of water in kelvin: 373.15\n"
          ]
        }
      ]
    },
    {
      "cell_type": "code",
      "source": [
        "print(temperature_k)"
      ],
      "metadata": {
        "colab": {
          "base_uri": "https://localhost:8080/",
          "height": 171
        },
        "id": "rpQ2ciAaMo95",
        "outputId": "bb4ef930-ad17-4ebd-9b8e-0d5fa5fb9987"
      },
      "id": "rpQ2ciAaMo95",
      "execution_count": null,
      "outputs": [
        {
          "output_type": "error",
          "ename": "NameError",
          "evalue": "ignored",
          "traceback": [
            "\u001b[0;31m---------------------------------------------------------------------------\u001b[0m",
            "\u001b[0;31mNameError\u001b[0m                                 Traceback (most recent call last)",
            "\u001b[0;32m<ipython-input-43-0b8026f3a4e0>\u001b[0m in \u001b[0;36m<cell line: 1>\u001b[0;34m()\u001b[0m\n\u001b[0;32m----> 1\u001b[0;31m \u001b[0mprint\u001b[0m\u001b[0;34m(\u001b[0m\u001b[0mtemperature_k\u001b[0m\u001b[0;34m)\u001b[0m\u001b[0;34m\u001b[0m\u001b[0;34m\u001b[0m\u001b[0m\n\u001b[0m",
            "\u001b[0;31mNameError\u001b[0m: name 'temperature_k' is not defined"
          ]
        }
      ]
    },
    {
      "cell_type": "code",
      "source": [
        "temperature_kelvin = fahr_to_kelvin(212.0)\n",
        "print(temperature_kelvin)"
      ],
      "metadata": {
        "colab": {
          "base_uri": "https://localhost:8080/"
        },
        "id": "EkP0ihwgMxYZ",
        "outputId": "afd7e110-2f37-403e-9c38-217f8903169c"
      },
      "id": "EkP0ihwgMxYZ",
      "execution_count": null,
      "outputs": [
        {
          "output_type": "stream",
          "name": "stdout",
          "text": [
            "373.15\n"
          ]
        }
      ]
    },
    {
      "cell_type": "code",
      "source": [
        "print(Temperature_Kelvin)"
      ],
      "metadata": {
        "colab": {
          "base_uri": "https://localhost:8080/",
          "height": 171
        },
        "id": "YthJtpJYND2M",
        "outputId": "f8784525-6e7a-4831-8060-2f5fb1c8019f"
      },
      "id": "YthJtpJYND2M",
      "execution_count": null,
      "outputs": [
        {
          "output_type": "error",
          "ename": "NameError",
          "evalue": "ignored",
          "traceback": [
            "\u001b[0;31m---------------------------------------------------------------------------\u001b[0m",
            "\u001b[0;31mNameError\u001b[0m                                 Traceback (most recent call last)",
            "\u001b[0;32m<ipython-input-45-c9695b0c5cd7>\u001b[0m in \u001b[0;36m<cell line: 1>\u001b[0;34m()\u001b[0m\n\u001b[0;32m----> 1\u001b[0;31m \u001b[0mprint\u001b[0m\u001b[0;34m(\u001b[0m\u001b[0mTemperature_Kelvin\u001b[0m\u001b[0;34m)\u001b[0m\u001b[0;34m\u001b[0m\u001b[0;34m\u001b[0m\u001b[0m\n\u001b[0m",
            "\u001b[0;31mNameError\u001b[0m: name 'Temperature_Kelvin' is not defined"
          ]
        }
      ]
    },
    {
      "cell_type": "code",
      "source": [
        "def print_temperatures():\n",
        "    print('temperature in Fahrenheit was:', temperature_fahrenheit)\n",
        "    print('temperature in kelvin was:', temperature_kelvin)\n",
        "\n",
        "temperature_fahrenheit = 212\n",
        "temperature_kelvin = fahr_to_kelvin(temperature_fahrenheit)\n",
        "\n",
        "print_temperatures()\n",
        "                                    \n"
      ],
      "metadata": {
        "colab": {
          "base_uri": "https://localhost:8080/"
        },
        "id": "UaYxuYvdNYJt",
        "outputId": "22661956-db3f-418e-d641-9c2a91a045ba"
      },
      "id": "UaYxuYvdNYJt",
      "execution_count": null,
      "outputs": [
        {
          "output_type": "stream",
          "name": "stdout",
          "text": [
            "temperature in Fahrenheit was: 212\n",
            "temperature in kelvin was: 373.15\n"
          ]
        }
      ]
    },
    {
      "cell_type": "code",
      "source": [
        "def visualize(filename):\n",
        "    data = numpy.loadtxt(fname=filename, delimiter=',')\n",
        "\n",
        "    fig = matplotlib.pyplot.figure(figsize=(10,3))\n",
        "\n",
        "    axes1 = fig.add_subplot(1, 3, 1)\n",
        "    axes2 = fig.add_subplot(1, 3, 2)\n",
        "    axes3 = fig.add_subplot(1, 3, 3)\n",
        "\n",
        "    axes1.set_ylabel('average')\n",
        "    axes1.plot(numpy.mean(data, axis=0))\n",
        "\n",
        "    axes2.set_ylabel('max')\n",
        "    axes2.plot(numpy.max(data, axis=0))\n",
        "\n",
        "    axes3.set_ylabel('min')\n",
        "    axes3.plot(numpy.min(data, axis=0))\n",
        "\n",
        "    fig.tight_layout()\n",
        "\n",
        "    matplotlib.pyplot.show()"
      ],
      "metadata": {
        "id": "QtdKz5kfN7Bj"
      },
      "id": "QtdKz5kfN7Bj",
      "execution_count": null,
      "outputs": []
    },
    {
      "cell_type": "code",
      "source": [
        "def detect_problems(filename):\n",
        "\n",
        "    data = numpy.loadtxt(fname=filename, delimiter=',')\n",
        "\n",
        "    if numpy.max(data, axis=0)[0] == 0 and numpy.max(data, axis=0)[20] == 20:\n",
        "        print('Suspicious looking maxima!')\n",
        "    elif numpy.sum(numpy.min(data, axis=0)) == 0:\n",
        "        print('Minima add up to zero!')\n",
        "    else:\n",
        "        print('seems OK!')"
      ],
      "metadata": {
        "id": "b3Z1uQrgTADX"
      },
      "id": "b3Z1uQrgTADX",
      "execution_count": null,
      "outputs": []
    },
    {
      "cell_type": "code",
      "source": [
        "import glob\n",
        "import matplotlib\n",
        "\n",
        "filenames = sorted(glob.glob('inflammation*.csv'))\n",
        "\n",
        "for filename in filenames[:3]:\n",
        "    print(filename)\n",
        "    visualize(filename)\n",
        "    detect_problems(filename)"
      ],
      "metadata": {
        "colab": {
          "base_uri": "https://localhost:8080/",
          "height": 996
        },
        "id": "dwkQhLSVUj2o",
        "outputId": "8cd67bc1-beb7-4b6e-d0ac-e3792684c72c"
      },
      "id": "dwkQhLSVUj2o",
      "execution_count": null,
      "outputs": [
        {
          "output_type": "stream",
          "name": "stdout",
          "text": [
            "inflammation-01.csv\n"
          ]
        },
        {
          "output_type": "display_data",
          "data": {
            "text/plain": [
              "<Figure size 1000x300 with 3 Axes>"
            ],
            "image/png": "[encoded data removed]"
          },
          "metadata": {}
        },
        {
          "output_type": "stream",
          "name": "stdout",
          "text": [
            "Suspicious looking maxima!\n",
            "inflammation-02.csv\n"
          ]
        },
        {
          "output_type": "display_data",
          "data": {
            "text/plain": [
              "<Figure size 1000x300 with 3 Axes>"
            ],
            "image/png": "[encoded data removed]"
          },
          "metadata": {}
        },
        {
          "output_type": "stream",
          "name": "stdout",
          "text": [
            "Suspicious looking maxima!\n",
            "inflammation-03.csv\n"
          ]
        },
        {
          "output_type": "display_data",
          "data": {
            "text/plain": [
              "<Figure size 1000x300 with 3 Axes>"
            ],
            "image/png": "[encoded data removed]"
          },
          "metadata": {}
        },
        {
          "output_type": "stream",
          "name": "stdout",
          "text": [
            "Minima add up to zero!\n"
          ]
        }
      ]
    },
    {
      "cell_type": "code",
      "source": [
        "def offset_mean(data, target_mean_value):\n",
        "    return (data - numpy.mean(data)) + target_mean_value"
      ],
      "metadata": {
        "id": "1yZuxSsEVFs7"
      },
      "id": "1yZuxSsEVFs7",
      "execution_count": null,
      "outputs": []
    },
    {
      "cell_type": "code",
      "source": [
        "z = numpy.zeros((2, 2))\n",
        "print(offset_mean(z, 3))"
      ],
      "metadata": {
        "colab": {
          "base_uri": "https://localhost:8080/"
        },
        "id": "XHk2Kg-aWafM",
        "outputId": "f71268e7-6567-4c1f-8dc2-1aab0df7f499"
      },
      "id": "XHk2Kg-aWafM",
      "execution_count": null,
      "outputs": [
        {
          "output_type": "stream",
          "name": "stdout",
          "text": [
            "[[3. 3.]\n",
            " [3. 3.]]\n"
          ]
        }
      ]
    },
    {
      "cell_type": "code",
      "source": [
        "data = numpy.loadtxt(fname='inflammation-01.csv', delimiter=',')\n",
        "print(offset_mean(data, 0))"
      ],
      "metadata": {
        "colab": {
          "base_uri": "https://localhost:8080/"
        },
        "id": "7VXEOncTWg8L",
        "outputId": "e3ef5d79-ba2e-459b-80c6-3f179e3e6b9e"
      },
      "id": "7VXEOncTWg8L",
      "execution_count": null,
      "outputs": [
        {
          "output_type": "stream",
          "name": "stdout",
          "text": [
            "[[-6.14875 -6.14875 -5.14875 ... -3.14875 -6.14875 -6.14875]\n",
            " [-6.14875 -5.14875 -4.14875 ... -5.14875 -6.14875 -5.14875]\n",
            " [-6.14875 -5.14875 -5.14875 ... -4.14875 -5.14875 -5.14875]\n",
            " ...\n",
            " [-6.14875 -5.14875 -5.14875 ... -5.14875 -5.14875 -5.14875]\n",
            " [-6.14875 -6.14875 -6.14875 ... -6.14875 -4.14875 -6.14875]\n",
            " [-6.14875 -6.14875 -5.14875 ... -5.14875 -5.14875 -6.14875]]\n"
          ]
        }
      ]
    },
    {
      "cell_type": "code",
      "source": [
        "print('original min, mean, and max are:', numpy.min(data), numpy.mean(data), numpy.max(data))\n",
        "\n",
        "offset_data = offset_mean(data, 0)\n",
        "\n",
        "print(\n",
        "    'min, mean, and max of offset data are:',\n",
        "    numpy.min(offset_data),\n",
        "    numpy.mean(offset_data),\n",
        "    numpy.max(offset_data),\n",
        ")"
      ],
      "metadata": {
        "colab": {
          "base_uri": "https://localhost:8080/"
        },
        "id": "VW-Vd_7CWwAW",
        "outputId": "99f5c835-539e-4833-db36-ea01fa933759"
      },
      "id": "VW-Vd_7CWwAW",
      "execution_count": null,
      "outputs": [
        {
          "output_type": "stream",
          "name": "stdout",
          "text": [
            "original min, mean, and max are: 0.0 6.14875 20.0\n",
            "min, mean, and max of offset data are: -6.14875 2.842170943040401e-16 13.85125\n"
          ]
        }
      ]
    },
    {
      "cell_type": "code",
      "source": [
        "print('std dev before and after:', numpy.std(data), numpy.std(offset_data))"
      ],
      "metadata": {
        "colab": {
          "base_uri": "https://localhost:8080/"
        },
        "id": "T74PE2POXirt",
        "outputId": "daf67e80-dc59-403e-9eb0-3b2c1f1bddc0"
      },
      "id": "T74PE2POXirt",
      "execution_count": null,
      "outputs": [
        {
          "output_type": "stream",
          "name": "stdout",
          "text": [
            "std dev before and after: 4.613833197118566 4.613833197118566\n"
          ]
        }
      ]
    },
    {
      "cell_type": "code",
      "source": [
        "def offset_mean(data, target_mean_value):\n",
        "    \"\"\"\n",
        "    Return a new array containing the original data with\n",
        "    its mean offset to match the desired value.\n",
        "\n",
        "    .. math::\n",
        "\n",
        "         d = d - d_{mean}\n",
        "\n",
        "    Parameters\n",
        "    ----------\n",
        "    data\n",
        "        The data to have the mean substracted from.\n",
        "    target_mean_value\n",
        "        The target mean value.\n",
        "\n",
        "    Examples\n",
        "    --------\n",
        "    >>> offset_mean([1, 2, 3], 0)\n",
        "    array([-1., 0., 1.])\n",
        "    \"\"\"\n",
        "    return (data - numpy.mean(data)) + target_mean_value"
      ],
      "metadata": {
        "id": "g3OBbSklX8tK"
      },
      "id": "g3OBbSklX8tK",
      "execution_count": null,
      "outputs": []
    },
    {
      "cell_type": "code",
      "source": [
        "help(offset_mean)"
      ],
      "metadata": {
        "colab": {
          "base_uri": "https://localhost:8080/"
        },
        "id": "HSIv2urnYacW",
        "outputId": "aaa6ee5f-5c76-4e9a-cf59-34b878d08f89"
      },
      "id": "HSIv2urnYacW",
      "execution_count": null,
      "outputs": [
        {
          "output_type": "stream",
          "name": "stdout",
          "text": [
            "Help on function offset_mean in module __main__:\n",
            "\n",
            "offset_mean(data, target_mean_value)\n",
            "    Return a new array containing the original data with\n",
            "    its mean offset to match the desired value.\n",
            "    \n",
            "    .. math::\n",
            "    \n",
            "         d = d - d_{mean}\n",
            "    \n",
            "    Parameters\n",
            "    ----------\n",
            "    data\n",
            "        The data to have the mean substracted from.\n",
            "    target_mean_value\n",
            "        The target mean value.\n",
            "    \n",
            "    Examples\n",
            "    --------\n",
            "    >>> offset_mean([1, 2, 3], 0)\n",
            "    array([-1., 0., 1.])\n",
            "\n"
          ]
        }
      ]
    },
    {
      "cell_type": "code",
      "source": [
        "\n",
        "\n",
        "def f(x):\n",
        "    assert x > 0, \"Need x > 0\""
      ],
      "metadata": {
        "id": "UxpkSmaOYdS6"
      },
      "id": "UxpkSmaOYdS6",
      "execution_count": null,
      "outputs": []
    },
    {
      "cell_type": "code",
      "source": [
        "f(-1)"
      ],
      "metadata": {
        "colab": {
          "base_uri": "https://localhost:8080/",
          "height": 244
        },
        "id": "ORz90MpGaluZ",
        "outputId": "79bf782b-ba8e-4c0a-c3e2-35b8b9e8a76b"
      },
      "id": "ORz90MpGaluZ",
      "execution_count": null,
      "outputs": [
        {
          "output_type": "error",
          "ename": "AssertionError",
          "evalue": "ignored",
          "traceback": [
            "\u001b[0;31m---------------------------------------------------------------------------\u001b[0m",
            "\u001b[0;31mAssertionError\u001b[0m                            Traceback (most recent call last)",
            "\u001b[0;32m<ipython-input-65-8e6746a6b70d>\u001b[0m in \u001b[0;36m<cell line: 1>\u001b[0;34m()\u001b[0m\n\u001b[0;32m----> 1\u001b[0;31m \u001b[0mf\u001b[0m\u001b[0;34m(\u001b[0m\u001b[0;34m-\u001b[0m\u001b[0;36m1\u001b[0m\u001b[0;34m)\u001b[0m\u001b[0;34m\u001b[0m\u001b[0;34m\u001b[0m\u001b[0m\n\u001b[0m",
            "\u001b[0;32m<ipython-input-64-d497a93464f8>\u001b[0m in \u001b[0;36mf\u001b[0;34m(x)\u001b[0m\n\u001b[1;32m      1\u001b[0m \u001b[0;32mdef\u001b[0m \u001b[0mf\u001b[0m\u001b[0;34m(\u001b[0m\u001b[0mx\u001b[0m\u001b[0;34m)\u001b[0m\u001b[0;34m:\u001b[0m\u001b[0;34m\u001b[0m\u001b[0;34m\u001b[0m\u001b[0m\n\u001b[0;32m----> 2\u001b[0;31m     \u001b[0;32massert\u001b[0m \u001b[0mx\u001b[0m \u001b[0;34m>\u001b[0m \u001b[0;36m0\u001b[0m\u001b[0;34m,\u001b[0m \u001b[0;34m\"Need x > 0\"\u001b[0m\u001b[0;34m\u001b[0m\u001b[0;34m\u001b[0m\u001b[0m\n\u001b[0m",
            "\u001b[0;31mAssertionError\u001b[0m: Need x > 0"
          ]
        }
      ]
    },
    {
      "cell_type": "code",
      "source": [],
      "metadata": {
        "id": "zy29_wE1anGh"
      },
      "id": "zy29_wE1anGh",
      "execution_count": null,
      "outputs": []
    }
  ],
  "metadata": {
    "kernelspec": {
      "display_name": "Python 3 (ipykernel)",
      "language": "python",
      "name": "python3"
    },
    "language_info": {
      "codemirror_mode": {
        "name": "ipython",
        "version": 3
      },
      "file_extension": ".py",
      "mimetype": "text/x-python",
      "name": "python",
      "nbconvert_exporter": "python",
      "pygments_lexer": "ipython3",
      "version": "3.11.3"
    },
    "colab": {
      "provenance": []
    }
  },
  "nbformat": 4,
  "nbformat_minor": 5
}